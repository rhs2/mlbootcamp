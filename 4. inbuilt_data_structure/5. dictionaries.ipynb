{
 "cells": [
  {
   "cell_type": "markdown",
   "id": "4b60d547",
   "metadata": {},
   "source": [
    "#### Dictionaries\n",
    " Outline:\n",
    "1. Introduction to Dictionaries\n",
    "2. Creating Dictionaries\n",
    "3. Accessing Dictionary Elements\n",
    "4. Modifying Dictionary Elements\n",
    "5. Dictionary Methods\n",
    "6. Iterating Over Dictionaries\n",
    "7. Nested Dictionaries\n",
    "8. Dictionary Comprehensions\n",
    "9. Practical Examples and Common Errors"
   ]
  },
  {
   "cell_type": "markdown",
   "id": "499291f9",
   "metadata": {},
   "source": [
    "##### Introduction to Dictionaries\n",
    "\n",
    "Dictionaries are unordered collections of items. They store data in key-value pairs.\n",
    "Keys must be unique and immutable (e.g., strings, numbers, or tuples), while values can be of any type."
   ]
  },
  {
   "cell_type": "code",
   "execution_count": 1,
   "id": "996c0987",
   "metadata": {},
   "outputs": [
    {
     "name": "stdout",
     "output_type": "stream",
     "text": [
      "<class 'dict'>\n"
     ]
    }
   ],
   "source": [
    "## Creating Dictionaries\n",
    "empty_dict={}\n",
    "print(type(empty_dict))"
   ]
  },
  {
   "cell_type": "code",
   "execution_count": 2,
   "id": "eed18e12",
   "metadata": {},
   "outputs": [
    {
     "data": {
      "text/plain": [
       "{}"
      ]
     },
     "execution_count": 2,
     "metadata": {},
     "output_type": "execute_result"
    }
   ],
   "source": [
    "empty_dict=dict()\n",
    "empty_dict"
   ]
  },
  {
   "cell_type": "code",
   "execution_count": 3,
   "id": "589714ac",
   "metadata": {},
   "outputs": [
    {
     "name": "stdout",
     "output_type": "stream",
     "text": [
      "{'name': 'rhs2', 'age': 32, 'grade': 24}\n",
      "<class 'dict'>\n"
     ]
    }
   ],
   "source": [
    "student={\"name\":\"rhs2\",\"age\":32,\"grade\":24}\n",
    "print(student)\n",
    "print(type(student))"
   ]
  },
  {
   "cell_type": "code",
   "execution_count": 4,
   "id": "14fbed85",
   "metadata": {},
   "outputs": [
    {
     "name": "stdout",
     "output_type": "stream",
     "text": [
      "{'name': 24, 'age': 32}\n"
     ]
    }
   ],
   "source": [
    "# Single key is always used\n",
    "student={\"name\":\"rhs2\",\"age\":32,\"name\":24}\n",
    "print(student)"
   ]
  },
  {
   "cell_type": "code",
   "execution_count": 5,
   "id": "613b7cc1",
   "metadata": {},
   "outputs": [
    {
     "name": "stdout",
     "output_type": "stream",
     "text": [
      "{'name': 'rhs6', 'age': 32, 'grade': 'A'}\n"
     ]
    }
   ],
   "source": [
    "## accessing Dictionary Elements\n",
    "student={\"name\":\"rhs6\",\"age\":32,\"grade\":'A'}\n",
    "print(student)"
   ]
  },
  {
   "cell_type": "code",
   "execution_count": 6,
   "id": "b25d3b88",
   "metadata": {},
   "outputs": [
    {
     "name": "stdout",
     "output_type": "stream",
     "text": [
      "A\n",
      "32\n",
      "A\n",
      "None\n",
      "Not Available\n"
     ]
    }
   ],
   "source": [
    "## Accessing Dictionary elements\n",
    "print(student['grade'])\n",
    "print(student['age'])\n",
    "\n",
    "## Accessing using get() method\n",
    "print(student.get('grade'))\n",
    "print(student.get('last_name'))\n",
    "print(student.get('last_name',\"Not Available\"))"
   ]
  },
  {
   "cell_type": "code",
   "execution_count": 7,
   "id": "511a0faa",
   "metadata": {},
   "outputs": [
    {
     "name": "stdout",
     "output_type": "stream",
     "text": [
      "{'name': 'rhs6', 'age': 32, 'grade': 'A'}\n"
     ]
    }
   ],
   "source": [
    "## Modifying Dicitonary Elements\n",
    "## Dictionary are mutable,so you can add, update or delete elements\n",
    "print(student)"
   ]
  },
  {
   "cell_type": "code",
   "execution_count": 8,
   "id": "ee4713f0",
   "metadata": {},
   "outputs": [
    {
     "name": "stdout",
     "output_type": "stream",
     "text": [
      "{'name': 'rhs6', 'age': 33, 'grade': 'A'}\n",
      "{'name': 'rhs6', 'age': 33, 'grade': 'A', 'address': 'Bangladesh'}\n"
     ]
    }
   ],
   "source": [
    "student[\"age\"]=33  ##update value for the key\n",
    "print(student)\n",
    "student[\"address\"]=\"Bangladesh\" ## added a new key and value\n",
    "print(student)"
   ]
  },
  {
   "cell_type": "code",
   "execution_count": 9,
   "id": "ca905324",
   "metadata": {},
   "outputs": [
    {
     "name": "stdout",
     "output_type": "stream",
     "text": [
      "{'name': 'rhs6', 'age': 33, 'address': 'Bangladesh'}\n"
     ]
    }
   ],
   "source": [
    "del student['grade'] ## delete key and value pair\n",
    "\n",
    "print(student)"
   ]
  },
  {
   "cell_type": "code",
   "execution_count": 10,
   "id": "1216df68",
   "metadata": {},
   "outputs": [
    {
     "name": "stdout",
     "output_type": "stream",
     "text": [
      "dict_keys(['name', 'age', 'address'])\n",
      "dict_values(['rhs6', 33, 'Bangladesh'])\n",
      "dict_items([('name', 'rhs6'), ('age', 33), ('address', 'Bangladesh')])\n"
     ]
    }
   ],
   "source": [
    "## Dictionary methods\n",
    "\n",
    "keys=student.keys() ##get all the keys\n",
    "print(keys)\n",
    "values=student.values() ##get all values\n",
    "print(values)\n",
    "\n",
    "items=student.items() ##get all key value pairs\n",
    "print(items)"
   ]
  },
  {
   "cell_type": "code",
   "execution_count": 11,
   "id": "8f1105aa",
   "metadata": {},
   "outputs": [
    {
     "name": "stdout",
     "output_type": "stream",
     "text": [
      "{'name': 'rhs6', 'age': 33, 'address': 'Bangladesh'}\n",
      "{'name': 'rhs6', 'age': 33, 'address': 'Bangladesh'}\n"
     ]
    }
   ],
   "source": [
    "## shallow copy\n",
    "student_copy=student\n",
    "print(student)\n",
    "print(student_copy)"
   ]
  },
  {
   "cell_type": "code",
   "execution_count": 12,
   "id": "227b37a6",
   "metadata": {},
   "outputs": [
    {
     "name": "stdout",
     "output_type": "stream",
     "text": [
      "{'name': 'rhs2', 'age': 33, 'address': 'Bangladesh'}\n",
      "{'name': 'rhs2', 'age': 33, 'address': 'Bangladesh'}\n"
     ]
    }
   ],
   "source": [
    "student[\"name\"]=\"rhs2\"\n",
    "print(student)\n",
    "print(student_copy)"
   ]
  },
  {
   "cell_type": "code",
   "execution_count": 13,
   "id": "38b68470",
   "metadata": {},
   "outputs": [
    {
     "name": "stdout",
     "output_type": "stream",
     "text": [
      "{'name': 'rhs2', 'age': 33, 'address': 'Bangladesh'}\n",
      "{'name': 'rhs2', 'age': 33, 'address': 'Bangladesh'}\n"
     ]
    }
   ],
   "source": [
    "student_copy1=student.copy() ## shallow copy\n",
    "print(student_copy1)\n",
    "print(student)"
   ]
  },
  {
   "cell_type": "code",
   "execution_count": 14,
   "id": "8178e35c",
   "metadata": {},
   "outputs": [
    {
     "name": "stdout",
     "output_type": "stream",
     "text": [
      "{'name': 'rhs2', 'age': 33, 'address': 'Bangladesh'}\n",
      "{'name': 'sium2', 'age': 33, 'address': 'Bangladesh'}\n"
     ]
    }
   ],
   "source": [
    "student[\"name\"]=\"sium2\"\n",
    "print(student_copy1)\n",
    "print(student)"
   ]
  },
  {
   "cell_type": "code",
   "execution_count": 15,
   "id": "044788a2",
   "metadata": {},
   "outputs": [
    {
     "name": "stdout",
     "output_type": "stream",
     "text": [
      "name\n",
      "age\n",
      "address\n"
     ]
    }
   ],
   "source": [
    "### Iterating Over Dictionaries\n",
    "## You can use loops to iterate over dictionatries, keys,values,or items\n",
    "\n",
    "## Iterating over keys\n",
    "for keys in student.keys():\n",
    "    print(keys)"
   ]
  },
  {
   "cell_type": "code",
   "execution_count": 16,
   "id": "6469c73a",
   "metadata": {},
   "outputs": [
    {
     "name": "stdout",
     "output_type": "stream",
     "text": [
      "sium2\n",
      "33\n",
      "Bangladesh\n"
     ]
    }
   ],
   "source": [
    "## Iterate over values\n",
    "for value in student.values():\n",
    "    print(value)"
   ]
  },
  {
   "cell_type": "code",
   "execution_count": 17,
   "id": "88a0e158",
   "metadata": {},
   "outputs": [
    {
     "name": "stdout",
     "output_type": "stream",
     "text": [
      "name:sium2\n",
      "age:33\n",
      "address:Bangladesh\n"
     ]
    }
   ],
   "source": [
    "## Iterate over key value pairs\n",
    "for key,value in student.items():\n",
    "    print(f\"{key}:{value}\")"
   ]
  },
  {
   "cell_type": "code",
   "execution_count": 18,
   "id": "696fae8f",
   "metadata": {},
   "outputs": [
    {
     "name": "stdout",
     "output_type": "stream",
     "text": [
      "{'student1': {'name': 'rhs2', 'age': 32}, 'student2': {'name': 'sium2', 'age': 35}}\n"
     ]
    }
   ],
   "source": [
    "## Nested Disctionaries\n",
    "students={\n",
    "    \"student1\":{\"name\":\"rhs2\",\"age\":32},\n",
    "    \"student2\":{\"name\":\"sium2\",\"age\":35}\n",
    "}\n",
    "print(students)"
   ]
  },
  {
   "cell_type": "code",
   "execution_count": 19,
   "id": "05347628",
   "metadata": {},
   "outputs": [
    {
     "name": "stdout",
     "output_type": "stream",
     "text": [
      "sium2\n",
      "35\n"
     ]
    }
   ],
   "source": [
    "## Access nested dictionaries elementss\n",
    "print(students[\"student2\"][\"name\"])\n",
    "print(students[\"student2\"][\"age\"])"
   ]
  },
  {
   "cell_type": "code",
   "execution_count": 20,
   "id": "4e25838f",
   "metadata": {},
   "outputs": [
    {
     "data": {
      "text/plain": [
       "dict_items([('student1', {'name': 'rhs2', 'age': 32}), ('student2', {'name': 'sium2', 'age': 35})])"
      ]
     },
     "execution_count": 20,
     "metadata": {},
     "output_type": "execute_result"
    }
   ],
   "source": [
    "students.items()"
   ]
  },
  {
   "cell_type": "code",
   "execution_count": 21,
   "id": "268262fd",
   "metadata": {},
   "outputs": [
    {
     "name": "stdout",
     "output_type": "stream",
     "text": [
      "student1:{'name': 'rhs2', 'age': 32}\n",
      "name:rhs2\n",
      "age:32\n",
      "student2:{'name': 'sium2', 'age': 35}\n",
      "name:sium2\n",
      "age:35\n"
     ]
    }
   ],
   "source": [
    "## Iterating over nested dictionaries\n",
    "for student_id,student_info in students.items():\n",
    "    print(f\"{student_id}:{student_info}\")\n",
    "    for key,value in student_info.items():\n",
    "        print(f\"{key}:{value}\")"
   ]
  },
  {
   "cell_type": "code",
   "execution_count": 22,
   "id": "823e5bc5",
   "metadata": {},
   "outputs": [
    {
     "name": "stdout",
     "output_type": "stream",
     "text": [
      "{0: 0, 1: 1, 2: 4, 3: 9, 4: 16}\n"
     ]
    }
   ],
   "source": [
    "## Dictionary Comphrehension\n",
    "squares={x:x**2 for x in range(5)}\n",
    "print(squares)"
   ]
  },
  {
   "cell_type": "code",
   "execution_count": 24,
   "id": "31fdaf4c",
   "metadata": {},
   "outputs": [
    {
     "name": "stdout",
     "output_type": "stream",
     "text": [
      "{1: 1, 2: 2, 3: 3, 4: 4}\n"
     ]
    }
   ],
   "source": [
    "## Practical Examples\n",
    "\n",
    "## Use a dictionary to count he frequency of elements in list\n",
    "\n",
    "numbers=[1,2,2,3,3,3,4,4,4,4]\n",
    "frequency={}\n",
    "\n",
    "for number in numbers:\n",
    "    if number in frequency:\n",
    "        frequency[number]+=1\n",
    "    else:\n",
    "        frequency[number]=1\n",
    "print(frequency)"
   ]
  },
  {
   "cell_type": "code",
   "execution_count": 25,
   "id": "8f58aadc",
   "metadata": {},
   "outputs": [
    {
     "name": "stdout",
     "output_type": "stream",
     "text": [
      "{'a': 1, 'b': 3, 'c': 4}\n"
     ]
    }
   ],
   "source": [
    "## Merge 2 dictionaries into one\n",
    "\n",
    "dict1={\"a\":1,\"b\":2}\n",
    "dict2={\"b\":3,\"c\":4}\n",
    "merged_dict={**dict1,**dict2}\n",
    "print(merged_dict)"
   ]
  },
  {
   "cell_type": "markdown",
   "id": "6fa5c07d",
   "metadata": {},
   "source": [
    "#### Conclusion\n",
    "Dictionaries are powerful tools in Python for managing key-value pairs. They are used in a variety of real-world scenarios, such as counting word frequency, grouping data, storing configuration settings, managing phonebooks, tracking inventory, and caching results. Understanding how to leverage dictionaries effectively can greatly enhance the efficiency and readability of your code."
   ]
  }
 ],
 "metadata": {
  "kernelspec": {
   "display_name": "Python 3",
   "language": "python",
   "name": "python3"
  },
  "language_info": {
   "codemirror_mode": {
    "name": "ipython",
    "version": 3
   },
   "file_extension": ".py",
   "mimetype": "text/x-python",
   "name": "python",
   "nbconvert_exporter": "python",
   "pygments_lexer": "ipython3",
   "version": "3.12.0"
  }
 },
 "nbformat": 4,
 "nbformat_minor": 5
}
