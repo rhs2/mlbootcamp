{
 "cells": [
  {
   "cell_type": "markdown",
   "id": "97b2ae45",
   "metadata": {},
   "source": [
    "# Module: Inheritance Assignments\n",
    "## Lesson: Single and Multiple Inheritance\n",
    "### Assignment 1: Single Inheritance Basic\n",
    "\n",
    "Create a base class named `Animal` with attributes `name` and `species`. Create a derived class named `Dog` that inherits from `Animal` and adds an attribute `breed`. Create an object of the `Dog` class and print its attributes."
   ]
  },
  {
   "cell_type": "code",
   "execution_count": 3,
   "id": "5184938a",
   "metadata": {},
   "outputs": [
    {
     "name": "stdout",
     "output_type": "stream",
     "text": [
      "buddy golden retriver\n"
     ]
    }
   ],
   "source": [
    "class Animal():\n",
    "    def __init__(self, name, species):\n",
    "        self.name = name\n",
    "        self.species = species\n",
    "class Dog(Animal):\n",
    "    def __init__(self, name, species, breed):\n",
    "        super().__init__(name, species)\n",
    "        self.breed = breed\n",
    "dog = Dog('buddy', 'canine', 'golden retriver')\n",
    "print(dog.name, dog.breed)\n"
   ]
  },
  {
   "cell_type": "markdown",
   "id": "e322d31a",
   "metadata": {},
   "source": [
    "### Assignment 2: Method Overriding in Single Inheritance\n",
    "\n",
    "In the `Dog` class, override the `__str__` method to return a string representation of the object. Create an object of the class and print it."
   ]
  },
  {
   "cell_type": "code",
   "execution_count": 4,
   "id": "cc865f09",
   "metadata": {},
   "outputs": [
    {
     "name": "stdout",
     "output_type": "stream",
     "text": [
      "DogName: buddy, Species: canine, Breed: golden retriver\n"
     ]
    }
   ],
   "source": [
    "class Dog(Animal):\n",
    "    def __init__(self, name, species, breed):\n",
    "        super().__init__(name, species)\n",
    "        self.breed = breed\n",
    "    def __str__(self):\n",
    "        return f\"DogName: {self.name}, Species: {self.species}, Breed: {self.breed}\"\n",
    "dog = Dog('buddy', 'canine', 'golden retriver')   \n",
    "print(dog)"
   ]
  },
  {
   "cell_type": "markdown",
   "id": "5c4a4cb2",
   "metadata": {},
   "source": [
    "### Assignment 3: Single Inheritance with Additional Methods\n",
    "\n",
    "In the `Dog` class, add a method named `bark` that prints a barking sound. Create an object of the class and call the method."
   ]
  },
  {
   "cell_type": "code",
   "execution_count": 6,
   "id": "c905058f",
   "metadata": {},
   "outputs": [
    {
     "name": "stdout",
     "output_type": "stream",
     "text": [
      "DogName: buddy, Species: canine, Breed: golden retriver\n",
      "Woof, woof\n"
     ]
    }
   ],
   "source": [
    "class Dog(Animal):\n",
    "    def __init__(self, name, species, breed):\n",
    "        super().__init__(name, species)\n",
    "        self.breed = breed\n",
    "    def __str__(self):\n",
    "        return f\"DogName: {self.name}, Species: {self.species}, Breed: {self.breed}\"\n",
    "    def bark(self):\n",
    "        print('Woof, woof')\n",
    "dog = Dog('buddy', 'canine', 'golden retriver')   \n",
    "print(dog)\n",
    "dog.bark()"
   ]
  },
  {
   "cell_type": "markdown",
   "id": "9417a531",
   "metadata": {},
   "source": [
    "### Assignment 4: Multiple Inheritance Basic\n",
    "\n",
    "Create a base class named `Walker` with a method `walk` that prints a walking message. Create another base class named `Runner` with a method `run` that prints a running message. Create a derived class named `Athlete` that inherits from both `Walker` and `Runner`. Create an object of the `Athlete` class and call both methods."
   ]
  },
  {
   "cell_type": "code",
   "execution_count": 8,
   "id": "678fc9b8",
   "metadata": {},
   "outputs": [
    {
     "name": "stdout",
     "output_type": "stream",
     "text": [
      "Running....\n",
      "Walking..\n"
     ]
    }
   ],
   "source": [
    "class Walker():\n",
    "    def walk(self):\n",
    "        print('Walking..')\n",
    "class Runner():\n",
    "    def run(self):\n",
    "        print('Running....')\n",
    "class Athlete(Walker, Runner):\n",
    "    pass\n",
    "athlete = Athlete()\n",
    "athlete.run()\n",
    "athlete.walk()"
   ]
  },
  {
   "cell_type": "markdown",
   "id": "c64edc15",
   "metadata": {},
   "source": [
    "### Assignment 5: Method Resolution Order (MRO) in Multiple Inheritance\n",
    "\n",
    "In the `Athlete` class, override the `walk` method to print a different message. Create an object of the class and call the `walk` method. Use the `super()` function to call the `walk` method of the `Walker` class."
   ]
  },
  {
   "cell_type": "code",
   "execution_count": 9,
   "id": "29ec5a68",
   "metadata": {},
   "outputs": [
    {
     "name": "stdout",
     "output_type": "stream",
     "text": [
      "Running....\n",
      "athlete is walking\n"
     ]
    }
   ],
   "source": [
    "class Walker():\n",
    "    def walk(self):\n",
    "        print('Walking..')\n",
    "class Runner():\n",
    "    def run(self):\n",
    "        print('Running....')\n",
    "class Athlete(Walker, Runner):\n",
    "    def walk(self):\n",
    "        print('athlete is walking')\n",
    "athlete = Athlete()\n",
    "athlete.run()\n",
    "athlete.walk()"
   ]
  },
  {
   "cell_type": "markdown",
   "id": "8e19243e",
   "metadata": {},
   "source": [
    "### Assignment 6: Multiple Inheritance with Additional Attributes\n",
    "\n",
    "In the `Athlete` class, add an attribute `training_hours` and a method `train` that prints the training hours. Create an object of the class and call the method."
   ]
  },
  {
   "cell_type": "code",
   "execution_count": 13,
   "id": "6b921274",
   "metadata": {},
   "outputs": [
    {
     "name": "stdout",
     "output_type": "stream",
     "text": [
      "Running....\n",
      "training for 10 hours\n"
     ]
    }
   ],
   "source": [
    "class Walker():\n",
    "    def walk(self):\n",
    "        print('Walking..')\n",
    "class Runner():\n",
    "    def run(self):\n",
    "        print('Running....')\n",
    "class Athlete(Walker, Runner):\n",
    "    def __init__(self, training_hours):\n",
    "        self.traing_hours= training_hours\n",
    "    def train(self):\n",
    "        print(f'training for {self.traing_hours} hours')\n",
    "athlete = Athlete(10)\n",
    "athlete.run()\n",
    "athlete.train()"
   ]
  },
  {
   "cell_type": "markdown",
   "id": "0b7315a9",
   "metadata": {},
   "source": [
    "### Assignment 7: Diamond Problem in Multiple Inheritance\n",
    "\n",
    "Create a class named `A` with a method `show` that prints a message. Create two derived classes `B` and `C` that inherit from `A` and override the `show` method. Create a class `D` that inherits from both `B` and `C`. Create an object of the `D` class and call the `show` method. Observe the method resolution order."
   ]
  },
  {
   "cell_type": "code",
   "execution_count": 15,
   "id": "5b5449f1",
   "metadata": {},
   "outputs": [
    {
     "name": "stdout",
     "output_type": "stream",
     "text": [
      "C's show method\n"
     ]
    }
   ],
   "source": [
    "class A():\n",
    "    def show(self):\n",
    "        print(\"A's show method\")\n",
    "class B(A):\n",
    "    def show(self):\n",
    "        print(\"B's show method\")\n",
    "class C(A):\n",
    "    def show(self):\n",
    "        print(\"C's show method\")\n",
    "class D(C,B):\n",
    "    pass\n",
    "class_d = D()\n",
    "class_d.show()"
   ]
  },
  {
   "cell_type": "markdown",
   "id": "6e32f27d",
   "metadata": {},
   "source": [
    "### Assignment 8: Using `super()` in Single Inheritance\n",
    "\n",
    "Create a base class named `Shape` with an attribute `color`. Create a derived class named `Circle` that inherits from `Shape` and adds an attribute `radius`. Use the `super()` function to initialize the attributes. Create an object of the `Circle` class and print its attributes."
   ]
  },
  {
   "cell_type": "code",
   "execution_count": 17,
   "id": "031224eb",
   "metadata": {},
   "outputs": [
    {
     "name": "stdout",
     "output_type": "stream",
     "text": [
      "red\n"
     ]
    }
   ],
   "source": [
    "class Shape():\n",
    "    def __init__(self, color):\n",
    "        self.color = color\n",
    "class Circle(Shape):\n",
    "    def __init__(self, color, radius):\n",
    "        super().__init__(color)\n",
    "        self.radius= radius\n",
    "circle = Circle('red', 5)\n",
    "print(circle.color)\n"
   ]
  },
  {
   "cell_type": "markdown",
   "id": "658e42f7",
   "metadata": {},
   "source": [
    "### Assignment 9: Using `super()` in Multiple Inheritance\n",
    "\n",
    "Create a class named `Person` with an attribute `name`. Create a class named `Employee` with an attribute `employee_id`. Create a derived class `Manager` that inherits from both `Person` and `Employee`. Use the `super()` function to initialize the attributes. Create an object of the `Manager` class and print its attributes."
   ]
  },
  {
   "cell_type": "code",
   "execution_count": 21,
   "id": "cead93b2",
   "metadata": {},
   "outputs": [],
   "source": [
    "class Person():\n",
    "    def __init__(self, name):\n",
    "        self.name = name\n",
    "class Employee():\n",
    "    def __init__(self, employee_id):\n",
    "        self.employee_id = employee_id\n",
    "class Manager(Person, Employee):\n",
    "    def __init__(self, name, employee_id):\n",
    "        super().__init__(name)\n",
    "        Employee.__init__(self,employee_id)\n",
    "manager = Manager('John', 'M123')"
   ]
  },
  {
   "cell_type": "markdown",
   "id": "c46e146a",
   "metadata": {},
   "source": [
    "### Assignment 10: Method Overriding and `super()`\n",
    "\n",
    "Create a class named `Vehicle` with a method `start` that prints a starting message. Create a derived class `Car` that overrides the `start` method to print a different message. Use the `super()` function to call the `start` method of the `Vehicle` class. Create an object of the `Car` class and call the `start` method."
   ]
  },
  {
   "cell_type": "code",
   "execution_count": 23,
   "id": "e9a89e8b",
   "metadata": {},
   "outputs": [
    {
     "name": "stdout",
     "output_type": "stream",
     "text": [
      "Car starting\n",
      "Vehicle is started\n"
     ]
    }
   ],
   "source": [
    "class Vehicle():\n",
    "    def start(self):\n",
    "        print('Vehicle is started')\n",
    "class Car(Vehicle):\n",
    "    def start(self):\n",
    "        print('Car starting')\n",
    "        super().start()\n",
    "car = Car()\n",
    "car.start()"
   ]
  },
  {
   "cell_type": "markdown",
   "id": "11ea7eee",
   "metadata": {},
   "source": [
    "### Assignment 11: Multiple Inheritance with Different Methods\n",
    "\n",
    "Create a class named `Flyer` with a method `fly` that prints a flying message. Create a class named `Swimmer` with a method `swim` that prints a swimming message. Create a derived class `Superhero` that inherits from both `Flyer` and `Swimmer`. Create an object of the `Superhero` class and call both methods."
   ]
  },
  {
   "cell_type": "code",
   "execution_count": 24,
   "id": "ada26260",
   "metadata": {},
   "outputs": [
    {
     "name": "stdout",
     "output_type": "stream",
     "text": [
      "Flying...\n",
      "Swimming...\n"
     ]
    }
   ],
   "source": [
    "class Flyer:\n",
    "    def fly(self):\n",
    "        print(\"Flying...\")\n",
    "\n",
    "class Swimmer:\n",
    "    def swim(self):\n",
    "        print(\"Swimming...\")\n",
    "\n",
    "class Superhero(Flyer, Swimmer):\n",
    "    pass\n",
    "\n",
    "# Test\n",
    "superhero = Superhero()\n",
    "superhero.fly()\n",
    "superhero.swim()"
   ]
  },
  {
   "cell_type": "markdown",
   "id": "f8b9db53",
   "metadata": {},
   "source": [
    "### Assignment 12: Complex Multiple Inheritance\n",
    "\n",
    "Create a class named `Base1` with an attribute `a`. Create a class named `Base2` with an attribute `b`. Create a class named `Derived` that inherits from both `Base1` and `Base2` and adds an attribute `c`. Initialize all attributes using the `super()` function. Create an object of the `Derived` class and print its attributes."
   ]
  },
  {
   "cell_type": "code",
   "execution_count": 25,
   "id": "d3091b6c",
   "metadata": {},
   "outputs": [
    {
     "name": "stdout",
     "output_type": "stream",
     "text": [
      "1 2 3\n"
     ]
    }
   ],
   "source": [
    "class Base1:\n",
    "    def __init__(self, a):\n",
    "        self.a = a\n",
    "\n",
    "class Base2:\n",
    "    def __init__(self, b):\n",
    "        self.b = b\n",
    "\n",
    "class Derived(Base1, Base2):\n",
    "    def __init__(self, a, b, c):\n",
    "        super().__init__(a)\n",
    "        Base2.__init__(self, b)\n",
    "        self.c = c\n",
    "\n",
    "# Test\n",
    "derived = Derived(1, 2, 3)\n",
    "print(derived.a, derived.b, derived.c)"
   ]
  }
 ],
 "metadata": {
  "kernelspec": {
   "display_name": "Python 3",
   "language": "python",
   "name": "python3"
  },
  "language_info": {
   "codemirror_mode": {
    "name": "ipython",
    "version": 3
   },
   "file_extension": ".py",
   "mimetype": "text/x-python",
   "name": "python",
   "nbconvert_exporter": "python",
   "pygments_lexer": "ipython3",
   "version": "3.12.0"
  }
 },
 "nbformat": 4,
 "nbformat_minor": 5
}
