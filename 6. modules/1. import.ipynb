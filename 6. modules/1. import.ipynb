{
 "cells": [
  {
   "cell_type": "markdown",
   "id": "38397492",
   "metadata": {},
   "source": [
    "##### Importing Modules in Python: Modules and Packages\n",
    "In Python, modules and packages help organize and reuse code. Here's a comprehensive guide on how to import them."
   ]
  },
  {
   "cell_type": "code",
   "execution_count": 2,
   "id": "f3a0c770",
   "metadata": {},
   "outputs": [
    {
     "data": {
      "text/plain": [
       "4.0"
      ]
     },
     "execution_count": 2,
     "metadata": {},
     "output_type": "execute_result"
    }
   ],
   "source": [
    "#finding out square root of a value\n",
    "import math\n",
    "math.sqrt(16)\n"
   ]
  },
  {
   "cell_type": "code",
   "execution_count": 3,
   "id": "61bdbb5f",
   "metadata": {},
   "outputs": [
    {
     "name": "stdout",
     "output_type": "stream",
     "text": [
      "5.0\n",
      "8.0\n",
      "3.141592653589793\n"
     ]
    }
   ],
   "source": [
    "#fining out sqrt and pi value\n",
    "from math import sqrt, pi\n",
    "print(sqrt(25))\n",
    "print(sqrt(64))\n",
    "print(pi)"
   ]
  },
  {
   "cell_type": "code",
   "execution_count": 1,
   "id": "9f763e31",
   "metadata": {},
   "outputs": [
    {
     "data": {
      "text/plain": [
       "array([1, 2, 3, 4])"
      ]
     },
     "execution_count": 1,
     "metadata": {},
     "output_type": "execute_result"
    }
   ],
   "source": [
    "#creating array with numpy\n",
    "import numpy\n",
    "numpy.array([1,2,3,4])"
   ]
  },
  {
   "cell_type": "code",
   "execution_count": 2,
   "id": "e8b39bf7",
   "metadata": {},
   "outputs": [
    {
     "name": "stdout",
     "output_type": "stream",
     "text": [
      "7.0710678118654755\n",
      "3.141592653589793\n"
     ]
    }
   ],
   "source": [
    "#also we can use * to importing all the packages from a module\n",
    "from math import *\n",
    "print(sqrt(50))\n",
    "print(pi)"
   ]
  },
  {
   "cell_type": "code",
   "execution_count": 7,
   "id": "3387077a",
   "metadata": {},
   "outputs": [
    {
     "data": {
      "text/plain": [
       "5"
      ]
     },
     "execution_count": 7,
     "metadata": {},
     "output_type": "execute_result"
    }
   ],
   "source": [
    "from package.maths import addition\n",
    "addition(2,3)"
   ]
  },
  {
   "cell_type": "code",
   "execution_count": 8,
   "id": "1b7fbe7e",
   "metadata": {},
   "outputs": [
    {
     "data": {
      "text/plain": [
       "5"
      ]
     },
     "execution_count": 8,
     "metadata": {},
     "output_type": "execute_result"
    }
   ],
   "source": [
    "from package import maths\n",
    "maths.addition(2,3)"
   ]
  },
  {
   "cell_type": "markdown",
   "id": "fadf5625",
   "metadata": {},
   "source": [
    "#### Conclusion\n",
    "Importing modules and packages in Python allows you to organize your code, reuse functionalities, and keep your projects clean and manageable. By understanding how to import modules, specific functions, and use relative imports within packages, you can structure your Python applications more effectively."
   ]
  }
 ],
 "metadata": {
  "kernelspec": {
   "display_name": "Python 3",
   "language": "python",
   "name": "python3"
  },
  "language_info": {
   "codemirror_mode": {
    "name": "ipython",
    "version": 3
   },
   "file_extension": ".py",
   "mimetype": "text/x-python",
   "name": "python",
   "nbconvert_exporter": "python",
   "pygments_lexer": "ipython3",
   "version": "3.12.0"
  }
 },
 "nbformat": 4,
 "nbformat_minor": 5
}
