{
 "cells": [
  {
   "cell_type": "markdown",
   "id": "aeb33812",
   "metadata": {},
   "source": [
    "#### NumPy\n",
    "NumPy is a fundamental library for scientific scomputing in Python. It provides support for arrays and matrices, along with a collection of mathematical functions to operate on these data structure. In this module, we will cover the basics of NumPy, focusing on arrays and vectorized operations. "
   ]
  },
  {
   "cell_type": "code",
   "execution_count": 106,
   "id": "e05d9fe7",
   "metadata": {},
   "outputs": [],
   "source": [
    "import numpy as np"
   ]
  },
  {
   "cell_type": "code",
   "execution_count": 107,
   "id": "0003f22a",
   "metadata": {},
   "outputs": [
    {
     "name": "stdout",
     "output_type": "stream",
     "text": [
      "[1 2 3 4 5 6]\n",
      "<class 'numpy.ndarray'>\n",
      "(6,)\n"
     ]
    }
   ],
   "source": [
    "#create arrays with numpy #1-dimentional array\n",
    "\n",
    "array1 = np.array([1,2,3,4,5,6]) #inside the array we can give list, tuples\n",
    "print(array1)\n",
    "print(type(array1))\n",
    "print(array1.shape) #single dimention it will show one element only 1 number will be available, blank on the other side "
   ]
  },
  {
   "cell_type": "code",
   "execution_count": 108,
   "id": "571df17f",
   "metadata": {},
   "outputs": [
    {
     "data": {
      "text/plain": [
       "array([[1, 2, 3, 4, 5]])"
      ]
     },
     "execution_count": 108,
     "metadata": {},
     "output_type": "execute_result"
    }
   ],
   "source": [
    "#convert a single dimention arrays into 2 dimention array\n",
    "array2 = np.array([1,2,3,4,5,])\n",
    "array2.reshape(1,5) #2 braces so that's a 2d array (1,5)---> 1 row 5 columns"
   ]
  },
  {
   "cell_type": "code",
   "execution_count": 109,
   "id": "92960edb",
   "metadata": {},
   "outputs": [
    {
     "data": {
      "text/plain": [
       "(1, 5)"
      ]
     },
     "execution_count": 109,
     "metadata": {},
     "output_type": "execute_result"
    }
   ],
   "source": [
    "array3 = np.array([[1,2,3,4,5]]) #list inside a list\n",
    "array3.shape"
   ]
  },
  {
   "cell_type": "code",
   "execution_count": 110,
   "id": "dc63ba3a",
   "metadata": {},
   "outputs": [
    {
     "name": "stdout",
     "output_type": "stream",
     "text": [
      "[[1 2 3 4 5]\n",
      " [2 3 4 5 6]]\n",
      "(2, 5)\n"
     ]
    }
   ],
   "source": [
    "#2D ARRAY\n",
    "array4 = np.array([[1,2,3,4,5],[2,3,4,5,6,]]) #2 list seperated by comma\n",
    "print(array4)\n",
    "print(array4.shape) #shape is 2 rows and 5 columns so ---> row will be how many list we provide and and column will be len(list) and each row elements numbers should be same length "
   ]
  },
  {
   "cell_type": "code",
   "execution_count": 111,
   "id": "cbb26356",
   "metadata": {},
   "outputs": [
    {
     "data": {
      "text/plain": [
       "array([[0],\n",
       "       [2],\n",
       "       [4],\n",
       "       [6],\n",
       "       [8]])"
      ]
     },
     "execution_count": 111,
     "metadata": {},
     "output_type": "execute_result"
    }
   ],
   "source": [
    "#create arrays with built in functions\n",
    "np.arange(0,10,2).reshape(5,1)"
   ]
  },
  {
   "cell_type": "code",
   "execution_count": 112,
   "id": "58195006",
   "metadata": {},
   "outputs": [
    {
     "data": {
      "text/plain": [
       "array([[1., 1., 1., 1., 1.],\n",
       "       [1., 1., 1., 1., 1.],\n",
       "       [1., 1., 1., 1., 1.]])"
      ]
     },
     "execution_count": 112,
     "metadata": {},
     "output_type": "execute_result"
    }
   ],
   "source": [
    "#in built functions ones\n",
    "#create a 2d arrays in 3 rows and 5 columns and all the elements will be 1\n",
    "np.ones((3,5))"
   ]
  },
  {
   "cell_type": "code",
   "execution_count": 113,
   "id": "03f6f8b0",
   "metadata": {},
   "outputs": [
    {
     "data": {
      "text/plain": [
       "array([[1., 0., 0.],\n",
       "       [0., 1., 0.],\n",
       "       [0., 0., 1.]])"
      ]
     },
     "execution_count": 113,
     "metadata": {},
     "output_type": "execute_result"
    }
   ],
   "source": [
    "#identity matrix\n",
    "np.eye(3) #all the diagnal element will be 1 and remaining will be 0"
   ]
  },
  {
   "cell_type": "code",
   "execution_count": 114,
   "id": "8a41d9ce",
   "metadata": {},
   "outputs": [
    {
     "name": "stdout",
     "output_type": "stream",
     "text": [
      "Array:\n",
      " [[1 2 3]\n",
      " [4 5 6]]\n",
      "Shape: (2, 3)\n",
      "Number of dimensions: 2\n",
      "Size (number of elements): 6\n",
      "Data type: int64\n",
      "Item size (in bytes): 8\n"
     ]
    }
   ],
   "source": [
    "## Attributes of Numpy Array\n",
    "arr = np.array([[1, 2, 3], [4, 5, 6]])\n",
    "\n",
    "print(\"Array:\\n\", arr)\n",
    "print(\"Shape:\", arr.shape)  # Output: (2, 3)\n",
    "print(\"Number of dimensions:\", arr.ndim)  # Output: 2\n",
    "print(\"Size (number of elements):\", arr.size)  # Output: 6\n",
    "print(\"Data type:\", arr.dtype)  # Output: int32 (may vary based on platform)\n",
    "print(\"Item size (in bytes):\", arr.itemsize)  # Output: 8 (may vary based on platform)\n"
   ]
  },
  {
   "cell_type": "code",
   "execution_count": 115,
   "id": "bd1333ce",
   "metadata": {},
   "outputs": [
    {
     "name": "stdout",
     "output_type": "stream",
     "text": [
      "Addition: [11 22 33 44 55 66]\n",
      "substraction: [ -9 -18 -27 -36 -45 -54]\n",
      "multiplication: [ 10  40  90 160 250 360]\n",
      "division: [0.1 0.1 0.1 0.1 0.1 0.1]\n"
     ]
    }
   ],
   "source": [
    "##NumPy vectorized operation\n",
    "arr1 = np.array([1,2,3,4,5,6])\n",
    "arr2 = np.array([10,20,30,40,50,60])\n",
    "\n",
    "#element wise addition\n",
    "print(\"Addition:\",arr1+arr2)\n",
    "\n",
    "#element wise substractions\n",
    "print(\"substraction:\",arr1-arr2)\n",
    "\n",
    "#element wise multiplication\n",
    "print(\"multiplication:\",arr1*arr2)\n",
    "\n",
    "#element wise division\n",
    "print(\"division:\",arr1/arr2)\n",
    "\n",
    "\n",
    "\n",
    "\n"
   ]
  },
  {
   "cell_type": "code",
   "execution_count": 116,
   "id": "c6d69d21",
   "metadata": {},
   "outputs": [
    {
     "name": "stdout",
     "output_type": "stream",
     "text": [
      "[1.41421356 1.73205081 2.         2.23606798 2.44948974]\n",
      "[  7.3890561   20.08553692  54.59815003 148.4131591  403.42879349]\n",
      "[ 0.90929743  0.14112001 -0.7568025  -0.95892427 -0.2794155 ]\n",
      "[0.69314718 1.09861229 1.38629436 1.60943791 1.79175947]\n"
     ]
    }
   ],
   "source": [
    "#universal functions ---> some functions that apply to the entire array\n",
    "arr2= np.array([2,3,4,5,6])\n",
    "\n",
    "#squareroot\n",
    "print(np.sqrt(arr2))\n",
    "\n",
    "#exponential\n",
    "print(np.exp(arr2))\n",
    "\n",
    "#sine\n",
    "print(np.sin(arr2))\n",
    "\n",
    "#natural log\n",
    "print(np.log(arr2))\n"
   ]
  },
  {
   "cell_type": "code",
   "execution_count": 117,
   "id": "a6030fd6",
   "metadata": {},
   "outputs": [],
   "source": [
    "#array slicing operations and indexing\n",
    "arr5= np.array([[1,2,3,4,5,6],[6,7,8,9,10,11],[11,12,13,14,15,16]])"
   ]
  },
  {
   "cell_type": "code",
   "execution_count": 118,
   "id": "5a51be42",
   "metadata": {},
   "outputs": [
    {
     "name": "stdout",
     "output_type": "stream",
     "text": [
      "[[ 1  2  3  4  5  6]\n",
      " [ 6  7  8  9 10 11]\n",
      " [11 12 13 14 15 16]]\n"
     ]
    }
   ],
   "source": [
    "print(arr5)"
   ]
  },
  {
   "cell_type": "code",
   "execution_count": 119,
   "id": "133c0bd1",
   "metadata": {},
   "outputs": [
    {
     "data": {
      "text/plain": [
       "np.int64(1)"
      ]
     },
     "execution_count": 119,
     "metadata": {},
     "output_type": "execute_result"
    }
   ],
   "source": [
    "arr5[0][0]"
   ]
  },
  {
   "cell_type": "code",
   "execution_count": 120,
   "id": "da6f8b9c",
   "metadata": {},
   "outputs": [
    {
     "data": {
      "text/plain": [
       "array([[ 7,  8,  9],\n",
       "       [12, 13, 14]])"
      ]
     },
     "execution_count": 120,
     "metadata": {},
     "output_type": "execute_result"
    }
   ],
   "source": [
    "#pickup 7,8,9,12,13,14\n",
    "arr5[1:,1:4] #first slicing is row slicing and second is column slicing\n",
    "\n"
   ]
  },
  {
   "cell_type": "code",
   "execution_count": 121,
   "id": "2a2817a2",
   "metadata": {},
   "outputs": [
    {
     "data": {
      "text/plain": [
       "array([[ 6,  7],\n",
       "       [11, 12]])"
      ]
     },
     "execution_count": 121,
     "metadata": {},
     "output_type": "execute_result"
    }
   ],
   "source": [
    "#pickup 6,7,11,12\n",
    "arr5[1:,:2]\n"
   ]
  },
  {
   "cell_type": "code",
   "execution_count": 122,
   "id": "b28b6405",
   "metadata": {},
   "outputs": [],
   "source": [
    "## modify array elements\n",
    "arr5[0][0]=100\n"
   ]
  },
  {
   "cell_type": "code",
   "execution_count": 123,
   "id": "c349f7a2",
   "metadata": {},
   "outputs": [
    {
     "data": {
      "text/plain": [
       "array([[100,   2,   3,   4,   5,   6],\n",
       "       [  6,   7,   8,   9,  10,  11],\n",
       "       [ 11,  12,  13,  14,  15,  16]])"
      ]
     },
     "execution_count": 123,
     "metadata": {},
     "output_type": "execute_result"
    }
   ],
   "source": [
    "arr5"
   ]
  },
  {
   "cell_type": "code",
   "execution_count": 125,
   "id": "a6112f5e",
   "metadata": {},
   "outputs": [
    {
     "data": {
      "text/plain": [
       "array([[ 6,  7,  8,  9, 10, 11],\n",
       "       [11, 12, 13, 14, 15, 16]])"
      ]
     },
     "execution_count": 125,
     "metadata": {},
     "output_type": "execute_result"
    }
   ],
   "source": [
    "arr5[1:] "
   ]
  },
  {
   "cell_type": "code",
   "execution_count": 128,
   "id": "aba418da",
   "metadata": {},
   "outputs": [
    {
     "name": "stdout",
     "output_type": "stream",
     "text": [
      "Normalize data [-1.41421356 -0.70710678  0.          0.70710678  1.41421356]\n"
     ]
    }
   ],
   "source": [
    "#statistical concept ---> Normalization\n",
    "## to have a mean 0f 0 and stadard deviation of 1\n",
    "data = np.array([1,2,3,4,5])\n",
    "\n",
    "#calculate the mean and standard deviation\n",
    "mean = np.mean(data)\n",
    "std_dev = np.std(data)\n",
    "\n",
    "#normalize the data\n",
    "normalize_data = (data-mean) / std_dev\n",
    "print(f\"Normalize data {normalize_data}\")\n"
   ]
  },
  {
   "cell_type": "code",
   "execution_count": 129,
   "id": "2d5b15e4",
   "metadata": {},
   "outputs": [
    {
     "name": "stdout",
     "output_type": "stream",
     "text": [
      "Mean: 5.5\n",
      "Median: 5.5\n",
      "Standard Deviation: 2.8722813232690143\n",
      "Variance: 8.25\n"
     ]
    }
   ],
   "source": [
    "data = np.array([1, 2, 3, 4, 5, 6, 7, 8, 9, 10])\n",
    "\n",
    "# Mean\n",
    "mean = np.mean(data)\n",
    "print(\"Mean:\", mean)\n",
    "\n",
    "# Median\n",
    "median = np.median(data)\n",
    "print(\"Median:\", median)\n",
    "\n",
    "# Standard deviation\n",
    "std_dev = np.std(data)\n",
    "print(\"Standard Deviation:\", std_dev)\n",
    "\n",
    "# Variance\n",
    "variance = np.var(data)\n",
    "print(\"Variance:\", variance)\n",
    "\n"
   ]
  },
  {
   "cell_type": "code",
   "execution_count": 134,
   "id": "7b3926ed",
   "metadata": {},
   "outputs": [
    {
     "data": {
      "text/plain": [
       "array([5, 6, 7, 8])"
      ]
     },
     "execution_count": 134,
     "metadata": {},
     "output_type": "execute_result"
    }
   ],
   "source": [
    "## Logical operation\n",
    "data=np.array([1,2,3,4,5,6,7,8,9,10])\n",
    "\n",
    "data[(data>=5) & (data<=8)]"
   ]
  }
 ],
 "metadata": {
  "kernelspec": {
   "display_name": "Python 3",
   "language": "python",
   "name": "python3"
  },
  "language_info": {
   "codemirror_mode": {
    "name": "ipython",
    "version": 3
   },
   "file_extension": ".py",
   "mimetype": "text/x-python",
   "name": "python",
   "nbconvert_exporter": "python",
   "pygments_lexer": "ipython3",
   "version": "3.12.0"
  }
 },
 "nbformat": 4,
 "nbformat_minor": 5
}
