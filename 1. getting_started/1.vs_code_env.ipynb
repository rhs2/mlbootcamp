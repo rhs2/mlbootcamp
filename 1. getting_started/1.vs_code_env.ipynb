{
 "cells": [
  {
   "cell_type": "markdown",
   "id": "3733cc12",
   "metadata": {},
   "source": [
    "# 1. beginning of a project---> to create a env\n",
    "----> conda create -p venv python==3.12 "
   ]
  },
  {
   "cell_type": "markdown",
   "id": "c8781e26",
   "metadata": {},
   "source": [
    "# 2. installing requires libraries through pip\n",
    "-----> pip install -r requirements.txt"
   ]
  },
  {
   "cell_type": "markdown",
   "id": "763c4678",
   "metadata": {},
   "source": [
    "# 3. put every libraries inside the requirements.txt and run them through pip"
   ]
  }
 ],
 "metadata": {
  "kernelspec": {
   "display_name": "Python 3",
   "language": "python",
   "name": "python3"
  },
  "language_info": {
   "name": "python",
   "version": "3.12.0"
  }
 },
 "nbformat": 4,
 "nbformat_minor": 5
}
