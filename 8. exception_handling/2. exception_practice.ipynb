{
 "cells": [
  {
   "cell_type": "markdown",
   "id": "ebeb770d",
   "metadata": {},
   "source": [
    "# Module: Exception Handling Assignments\n",
    "## Lesson: Exception Handling with try, except, and finally\n",
    "### Assignment 1: Handling Division by Zero\n",
    "\n",
    "Write a function that takes two integers as input and returns their division. Use try, except, and finally blocks to handle division by zero and print an appropriate message."
   ]
  },
  {
   "cell_type": "code",
   "execution_count": 9,
   "id": "f29a4cfe",
   "metadata": {},
   "outputs": [
    {
     "name": "stdout",
     "output_type": "stream",
     "text": [
      "Executed Succesfully\n",
      "5.0\n",
      "Executed Succesfully\n",
      "3.3333333333333335\n"
     ]
    }
   ],
   "source": [
    "def divide(a,b):\n",
    "    try: \n",
    "        result = a/b\n",
    "    except ZeroDivisionError as e:\n",
    "        print(f\"Error: {e}\")\n",
    "    finally:\n",
    "        print(f\"Executed Succesfully\")\n",
    "        return result\n",
    "\n",
    "print(divide(10,2))\n",
    "print(divide(10,3))\n"
   ]
  },
  {
   "cell_type": "markdown",
   "id": "40fce486",
   "metadata": {},
   "source": [
    "### Assignment 2: File Reading with Exception Handling\n",
    "\n",
    "Write a function that reads the contents of a file named `data.txt`. Use try, except, and finally blocks to handle file not found errors and ensure the file is properly closed."
   ]
  },
  {
   "cell_type": "code",
   "execution_count": null,
   "id": "7227d51a",
   "metadata": {},
   "outputs": [],
   "source": []
  },
  {
   "cell_type": "code",
   "execution_count": 11,
   "id": "d3f484dc",
   "metadata": {},
   "outputs": [],
   "source": [
    "def read_file(file_path):\n",
    "    try:\n",
    "        file = open(file_path)\n",
    "        content= file.read()\n",
    "        return content\n",
    "    except FileNotFoundError as e:\n",
    "        print(f\"Error: {e}\")\n",
    "    finally:\n",
    "        try: \n",
    "            file.close()\n",
    "        except NameError:\n",
    "            pass\n",
    "#test\n",
    "#print(read_file('data.txt'))"
   ]
  },
  {
   "cell_type": "markdown",
   "id": "92521dcb",
   "metadata": {},
   "source": [
    "### Assignment 3: Handling Multiple Exceptions\n",
    "\n",
    "Write a function that takes a list of integers and returns their sum. Use try, except, and finally blocks to handle TypeError if a non-integer value is encountered and print an appropriate message."
   ]
  },
  {
   "cell_type": "code",
   "execution_count": 14,
   "id": "33fdb5d0",
   "metadata": {},
   "outputs": [
    {
     "name": "stdout",
     "output_type": "stream",
     "text": [
      "execution complete\n",
      "10\n",
      "Error: unsupported operand type(s) for +=: 'int' and 'str'\n",
      "execution complete\n",
      "None\n"
     ]
    }
   ],
   "source": [
    "def sum_list(list1):\n",
    "    total = 0\n",
    "    try:\n",
    "        for item in list1:\n",
    "            total+= item\n",
    "    except TypeError as e:\n",
    "        print(f\"Error: {e}\")\n",
    "        total = None\n",
    "    finally: \n",
    "        print('execution complete')\n",
    "    return total\n",
    "print(sum_list([1, 2, 3, 4]))  # 10\n",
    "print(sum_list([1, 2, 3, 'a'])) "
   ]
  },
  {
   "cell_type": "markdown",
   "id": "02b25fb1",
   "metadata": {},
   "source": [
    "### Assignment 4: Exception Handling in User Input\n",
    "\n",
    "Write a function that prompts the user to enter an integer. Use try, except, and finally blocks to handle ValueError if the user enters a non-integer value and print an appropriate message."
   ]
  },
  {
   "cell_type": "code",
   "execution_count": 15,
   "id": "fa6a62a6",
   "metadata": {},
   "outputs": [
    {
     "name": "stdout",
     "output_type": "stream",
     "text": [
      "execution complete\n",
      "10\n"
     ]
    }
   ],
   "source": [
    "def get_integer():\n",
    "    try:\n",
    "        value = int(input('enter an integer: '))\n",
    "    except ValueError as e:\n",
    "        print(e)\n",
    "    finally:\n",
    "        print('execution complete')\n",
    "    return value\n",
    "print(get_integer())"
   ]
  },
  {
   "cell_type": "markdown",
   "id": "0a548d5b",
   "metadata": {},
   "source": [
    "### Assignment 5: Exception Handling in Dictionary Access\n",
    "\n",
    "Write a function that takes a dictionary and a key as input and returns the value associated with the key. Use try, except, and finally blocks to handle KeyError if the key is not found in the dictionary and print an appropriate message."
   ]
  },
  {
   "cell_type": "code",
   "execution_count": 17,
   "id": "f87c10b5",
   "metadata": {},
   "outputs": [
    {
     "name": "stdout",
     "output_type": "stream",
     "text": [
      "execution complete\n",
      "2\n"
     ]
    }
   ],
   "source": [
    "def get_dict_value(d, key):\n",
    "    try:\n",
    "        value = d[key]\n",
    "    except KeyError as e:\n",
    "        print(f'Error: {e}')\n",
    "    finally:\n",
    "        print('execution complete')\n",
    "    return value\n",
    "d = {'a': 1, 'b': 2, 'c': 3}\n",
    "print(get_dict_value(d, 'b'))  # 2"
   ]
  },
  {
   "cell_type": "markdown",
   "id": "a14ef888",
   "metadata": {},
   "source": [
    "### Assignment 6: Nested Exception Handling\n",
    "\n",
    "Write a function that performs nested exception handling. It should first attempt to convert a string to an integer, and then attempt to divide by that integer. Use nested try, except, and finally blocks to handle ValueError and ZeroDivisionError and print appropriate messages."
   ]
  },
  {
   "cell_type": "code",
   "execution_count": 19,
   "id": "279a8a60",
   "metadata": {},
   "outputs": [],
   "source": [
    "def nested_exception_handling(s):\n",
    "    try:\n",
    "        try:\n",
    "            num = int(s)\n",
    "        except ValueError as e:\n",
    "            print(f\"Conversion error: {e}\")\n",
    "            num = None\n",
    "        finally:\n",
    "            print(\"Conversion attempt complete.\")\n",
    "        if num is not None:\n",
    "            try:\n",
    "                result = 10 / num\n",
    "            except ZeroDivisionError as e:\n",
    "                print(f\"Division error: {e}\")\n",
    "                result = None\n",
    "            finally:\n",
    "                print(\"Division attempt complete.\")\n",
    "            return result\n",
    "    finally:\n",
    "        print(\"Overall execution complete.\")\n",
    "# Test\n",
    "# print(nested_exception_handling('0'))  # None\n",
    "# print(nested_exception_handling('a'))  # None\n",
    "# print(nested_exception_handling('2'))  # 5.0"
   ]
  }
 ],
 "metadata": {
  "kernelspec": {
   "display_name": "Python 3",
   "language": "python",
   "name": "python3"
  },
  "language_info": {
   "codemirror_mode": {
    "name": "ipython",
    "version": 3
   },
   "file_extension": ".py",
   "mimetype": "text/x-python",
   "name": "python",
   "nbconvert_exporter": "python",
   "pygments_lexer": "ipython3",
   "version": "3.12.0"
  }
 },
 "nbformat": 4,
 "nbformat_minor": 5
}
