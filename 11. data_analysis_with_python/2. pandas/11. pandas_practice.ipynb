{
 "cells": [
  {
   "cell_type": "markdown",
   "id": "8f39bf8a",
   "metadata": {},
   "source": [
    "# Module: Pandas Assignments\n",
    "## Lesson: Pandas\n",
    "### Assignment 1: DataFrame Creation and Indexing\n",
    "\n",
    "1. Create a Pandas DataFrame with 4 columns and 6 rows filled with random integers. Set the index to be the first column."
   ]
  },
  {
   "cell_type": "code",
   "execution_count": 2,
   "id": "f1f719f6",
   "metadata": {},
   "outputs": [
    {
     "name": "stdout",
     "output_type": "stream",
     "text": [
      "Original Array:\n",
      " [[22  1 29 27]\n",
      " [28 29 26  4]\n",
      " [28 22 13 12]\n",
      " [ 5 17  9 19]\n",
      " [28  5  5 28]\n",
      " [ 7  2  3 21]]\n",
      "Original DataFrame:\n",
      "     A   B   C   D\n",
      "0  22   1  29  27\n",
      "1  28  29  26   4\n",
      "2  28  22  13  12\n",
      "3   5  17   9  19\n",
      "4  28   5   5  28\n",
      "5   7   2   3  21\n",
      "Index With First Column: \n",
      "      B   C   D\n",
      "A             \n",
      "22   1  29  27\n",
      "28  29  26   4\n",
      "28  22  13  12\n",
      "5   17   9  19\n",
      "28   5   5  28\n",
      "7    2   3  21\n"
     ]
    }
   ],
   "source": [
    "import pandas as pd\n",
    "import numpy as np\n",
    "#creating a (6,4) 2D array with random\n",
    "data = np.random.randint(1,30, size = (6,4))\n",
    "print(f\"Original Array:\\n {data}\")\n",
    "df1 = pd.DataFrame(data, columns=['A', 'B', 'C','D'])\n",
    "print(f\"Original DataFrame:\\n {df1}\")\n",
    "df1.set_index('A', inplace= True)\n",
    "print(f'Index With First Column: \\n {df1}')\n"
   ]
  },
  {
   "cell_type": "markdown",
   "id": "a5916125",
   "metadata": {},
   "source": [
    "2. Create a Pandas DataFrame with columns 'A', 'B', 'C' and index 'X', 'Y', 'Z'. Fill the DataFrame with random integers and access the element at row 'Y' and column 'B'."
   ]
  },
  {
   "cell_type": "code",
   "execution_count": 3,
   "id": "eb557898",
   "metadata": {},
   "outputs": [
    {
     "name": "stdout",
     "output_type": "stream",
     "text": [
      "Original DataFrame: \n",
      "     A   B   C\n",
      "X   9  17  12\n",
      "Y   4  11   7\n",
      "Z  14   4   8\n",
      "Element at row 'Y' and column 'B':\n",
      " 11 \n"
     ]
    }
   ],
   "source": [
    "#create a pandas DataFrame with specified columns and index\n",
    "df = pd.DataFrame(np.random.randint(1,20, size = (3,3)), columns=['A','B','C'], index = ['X','Y','Z'])\n",
    "print(f\"Original DataFrame: \\n {df}\")\n",
    "#access the element at row 'Y' and Column 'B'\n",
    "# element = df.loc['Y']['B']\n",
    "element = df.at['Y','B']\n",
    "print(f\"Element at row 'Y' and column 'B':\\n {element} \")"
   ]
  },
  {
   "cell_type": "markdown",
   "id": "2af0ae45",
   "metadata": {},
   "source": [
    "### Assignment 2: DataFrame Operations\n",
    "\n",
    "1. Create a Pandas DataFrame with 3 columns and 5 rows filled with random integers. Add a new column that is the product of the first two columns."
   ]
  },
  {
   "cell_type": "code",
   "execution_count": 4,
   "id": "c41ded77",
   "metadata": {},
   "outputs": [
    {
     "name": "stdout",
     "output_type": "stream",
     "text": [
      "Original DataFrame: \n",
      "     A   B   C\n",
      "0  18   6  12\n",
      "1  16  16   6\n",
      "2  19  10   7\n",
      "3  11   2  17\n",
      "4   6   4   5\n",
      "DataFrame with new columns:\n",
      "     A   B   C    D\n",
      "0  18   6  12  108\n",
      "1  16  16   6  256\n",
      "2  19  10   7  190\n",
      "3  11   2  17   22\n",
      "4   6   4   5   24\n"
     ]
    }
   ],
   "source": [
    "#create a Pandas DataFrame with 3 columns and 5 rows filled with random integers\n",
    "df = pd.DataFrame(np.random.randint(1,20, size = (5,3)), columns=['A','B','C'])\n",
    "print(f\"Original DataFrame: \\n {df}\")\n",
    "#add a new column is the product of the first two columns\n",
    "df['D']= df['A'] * df['B']\n",
    "print(f\"DataFrame with new columns:\\n {df}\")\n"
   ]
  },
  {
   "cell_type": "markdown",
   "id": "e349d5fe",
   "metadata": {},
   "source": [
    "2. Create a Pandas DataFrame with 3 columns and 4 rows filled with random integers. Compute the row-wise and column-wise sum."
   ]
  },
  {
   "cell_type": "code",
   "execution_count": 5,
   "id": "36ce1ca0",
   "metadata": {},
   "outputs": [
    {
     "name": "stdout",
     "output_type": "stream",
     "text": [
      "Original DataFrame: \n",
      "    A   B   C\n",
      "0  1   5  11\n",
      "1  6   6  19\n",
      "2  9  12   5\n",
      "3  5   4  12\n",
      "Row wise sum: \n",
      " 0    17\n",
      "1    31\n",
      "2    26\n",
      "3    21\n",
      "dtype: int64\n",
      "Column wise sum: \n",
      " A    21\n",
      "B    27\n",
      "C    47\n",
      "dtype: int64\n"
     ]
    }
   ],
   "source": [
    "#create a pandas DataFrame with 3 columns and 4 rows\n",
    "df = pd.DataFrame(np.random.randint(1,20, size = (4,3)), columns=['A','B','C'])\n",
    "print(f\"Original DataFrame: \\n {df}\")\n",
    "\n",
    "#compute the row_wise and column wise sum\n",
    "row_sum = df.sum(axis= 1)\n",
    "col_sum = df.sum(axis= 0)\n",
    "\n",
    "print(f\"Row wise sum: \\n {row_sum}\")\n",
    "print(f\"Column wise sum: \\n {col_sum}\")"
   ]
  },
  {
   "cell_type": "markdown",
   "id": "cf461af2",
   "metadata": {},
   "source": [
    "### Assignment 3: Data Cleaning\n",
    "\n",
    "1. Create a Pandas DataFrame with 3 columns and 5 rows filled with random integers. Introduce some NaN values. Fill the NaN values with the mean of the respective columns."
   ]
  },
  {
   "cell_type": "code",
   "execution_count": 6,
   "id": "5ffaaf72",
   "metadata": {},
   "outputs": [
    {
     "name": "stdout",
     "output_type": "stream",
     "text": [
      "Original DataFrame: \n",
      "     A   B   C\n",
      "0   6  16   4\n",
      "1  13  12  10\n",
      "2  16  15   8\n",
      "3  14   7  10\n",
      "4  14   7  14\n",
      "DataFrame with NaN values: \n",
      "       A     B     C\n",
      "0   6.0   NaN   4.0\n",
      "1  13.0  12.0  10.0\n",
      "2  16.0  15.0   NaN\n",
      "3  14.0   7.0  10.0\n",
      "4   NaN   7.0  14.0\n",
      "DataFrame with NaN values filled: \n",
      "        A      B     C\n",
      "0   6.00  10.25   4.0\n",
      "1  13.00  12.00  10.0\n",
      "2  16.00  15.00   9.5\n",
      "3  14.00   7.00  10.0\n",
      "4  12.25   7.00  14.0\n"
     ]
    }
   ],
   "source": [
    "#create a pandas DataFrame with 3 cols and 5 rows\n",
    "df = pd.DataFrame(np.random.randint(1,20, size = (5,3)), columns=['A','B','C'])\n",
    "print(f\"Original DataFrame: \\n {df}\")\n",
    "#introduce some NaN values\n",
    "df.iloc[0,1]= np.nan\n",
    "df.iloc[2,2]= np.nan\n",
    "df.iloc[4,0]= np.nan\n",
    "print(f\"DataFrame with NaN values: \\n {df}\")\n",
    "\n",
    "#fill the NaN values with the mean of the respective column\n",
    "df.fillna(df.mean(), inplace=True)\n",
    "print(f\"DataFrame with NaN values filled: \\n {df}\")"
   ]
  },
  {
   "cell_type": "markdown",
   "id": "aa6998d0",
   "metadata": {},
   "source": [
    "2. Create a Pandas DataFrame with 4 columns and 6 rows filled with random integers. Introduce some NaN values. Drop the rows with any NaN values."
   ]
  },
  {
   "cell_type": "code",
   "execution_count": 7,
   "id": "63a4ba56",
   "metadata": {},
   "outputs": [
    {
     "name": "stdout",
     "output_type": "stream",
     "text": [
      "Original DataFrame:\n",
      "     A   B   C   D\n",
      "0  24  46  29  14\n",
      "1  16  46  23  46\n",
      "2  31   3  34  46\n",
      "3   7  39  12  30\n",
      "4   6   2  17  32\n",
      "5  21  47  18   7\n",
      "DataFrame with NaN values: \n",
      "     A     B     C     D\n",
      "0  24  46.0  29.0  14.0\n",
      "1  16  46.0   NaN  46.0\n",
      "2  31   3.0  34.0   NaN\n",
      "3   7   NaN  12.0  30.0\n",
      "4   6   2.0  17.0  32.0\n",
      "5  21  47.0  18.0   7.0\n",
      "DataFrame with NaN values dropped:\n",
      "     A     B     C     D\n",
      "0  24  46.0  29.0  14.0\n",
      "4   6   2.0  17.0  32.0\n",
      "5  21  47.0  18.0   7.0\n"
     ]
    }
   ],
   "source": [
    "#Create a Pandas DataFrame with 4 columns and 6 rows\n",
    "df = pd.DataFrame(np.random.randint(1,50, size= (6,4)), columns=['A','B','C','D'])\n",
    "print(f\"Original DataFrame:\\n {df}\")\n",
    "\n",
    "#introduce some NaN values\n",
    "df.iloc[1,2]= np.nan\n",
    "df.iloc[2,3]= np.nan\n",
    "df.iloc[3,1]= np.nan\n",
    "print(f\"DataFrame with NaN values: \\n {df}\")\n",
    "\n",
    "#drop the rows with any NaN values\n",
    "df.dropna(inplace=True)\n",
    "print(f\"DataFrame with NaN values dropped:\\n {df}\")"
   ]
  },
  {
   "cell_type": "markdown",
   "id": "d18bacdf",
   "metadata": {},
   "source": [
    "### Assignment 4: Data Aggregation\n",
    "\n",
    "1. Create a Pandas DataFrame with 2 columns: 'Category' and 'Value'. Fill the 'Category' column with random categories ('A', 'B', 'C') and the 'Value' column with random integers. Group the DataFrame by 'Category' and compute the sum and mean of 'Value' for each category."
   ]
  },
  {
   "cell_type": "code",
   "execution_count": 8,
   "id": "f49df5d9",
   "metadata": {},
   "outputs": [
    {
     "name": "stdout",
     "output_type": "stream",
     "text": [
      "Original DataFrame:\n",
      "   Category  Values\n",
      "0        B       2\n",
      "1        B       6\n",
      "2        A       7\n",
      "3        C       7\n",
      "4        A       6\n",
      "5        C       8\n",
      "6        A       1\n",
      "7        A       4\n",
      "8        A       5\n",
      "9        C       6\n",
      "Groupped DataFrame: \n",
      "           sum  mean\n",
      "Category           \n",
      "A          23   4.6\n",
      "B           8   4.0\n",
      "C          21   7.0\n"
     ]
    }
   ],
   "source": [
    "#Create a Pandas DataFrame with 2 columns: 'Category' and 'Value'\n",
    "df = pd.DataFrame({'Category': np.random.choice(['A','B','C'], size =10), 'Values': np.random.randint(1,10, size = 10)})\n",
    "print(f\"Original DataFrame:\\n {df}\")\n",
    "\n",
    "#group the dataframe by 'Category' and compute the sum and mean of 'Value' for each category\n",
    "group = df.groupby('Category')['Values'].agg(['sum', 'mean'])\n",
    "print(f\"Groupped DataFrame: \\n {group}\")\n"
   ]
  },
  {
   "cell_type": "markdown",
   "id": "c6e5474c",
   "metadata": {},
   "source": [
    "2. Create a Pandas DataFrame with 3 columns: 'Product', 'Category', and 'Sales'. Fill the DataFrame with random data. Group the DataFrame by 'Category' and compute the total sales for each category."
   ]
  },
  {
   "cell_type": "code",
   "execution_count": 9,
   "id": "1b2fa59d",
   "metadata": {},
   "outputs": [
    {
     "name": "stdout",
     "output_type": "stream",
     "text": [
      "Original DataFrame: \n",
      "   Product Category  Sales\n",
      "0   Prod2        B     17\n",
      "1   Prod2        B     20\n",
      "2   Prod3        B     45\n",
      "3   Prod3        A      2\n",
      "4   Prod3        A     24\n",
      "5   Prod3        A     36\n",
      "6   Prod2        C     14\n",
      "7   Prod3        B     36\n",
      "8   Prod3        A      9\n",
      "9   Prod3        C      1\n",
      "Gropped DataFrame:\n",
      " Category\n",
      "A     71\n",
      "B    118\n",
      "C     15\n",
      "Name: Sales, dtype: int64\n"
     ]
    }
   ],
   "source": [
    "# Create a Pandas DataFrame with 3 columns: 'Product', 'Category', and 'Sales'\n",
    "df = pd.DataFrame({'Product': np.random.choice(['Prod1', 'Prod2', 'Prod3'], size =10), 'Category': np.random.choice(['A', 'B', 'C'],size = 10), 'Sales': np.random.randint(1,50, size =10)})\n",
    "print(f\"Original DataFrame: \\n {df}\")\n",
    "\n",
    "#group the DataFrame by 'Category' and compute the total sales for each category\n",
    "group1 = df.groupby('Category')['Sales'].sum()\n",
    "print(f\"Gropped DataFrame:\\n {group1}\")"
   ]
  },
  {
   "cell_type": "markdown",
   "id": "0635d502",
   "metadata": {},
   "source": [
    "### Assignment 5: Merging DataFrames\n",
    "\n",
    "1. Create two Pandas DataFrames with a common column. Merge the DataFrames using the common column."
   ]
  },
  {
   "cell_type": "code",
   "execution_count": 10,
   "id": "459b772e",
   "metadata": {},
   "outputs": [
    {
     "name": "stdout",
     "output_type": "stream",
     "text": [
      "DataFrame 1:\n",
      "  Key  Value1\n",
      "0   A      48\n",
      "1   B      82\n",
      "2   C      33\n",
      "3   D      48\n",
      "DataFrame 2:\n",
      "  Key  Value2\n",
      "0   A      86\n",
      "1   B      50\n",
      "2   C      43\n",
      "3   E      18\n",
      "Merged DataFrame:\n",
      "  Key  Value1  Value2\n",
      "0   A      48      86\n",
      "1   B      82      50\n",
      "2   C      33      43\n"
     ]
    }
   ],
   "source": [
    "# Create two Pandas DataFrames with a common column\n",
    "df1 = pd.DataFrame({'Key': ['A', 'B', 'C', 'D'], 'Value1': np.random.randint(1, 100, size=4)})\n",
    "df2 = pd.DataFrame({'Key': ['A', 'B', 'C', 'E'], 'Value2': np.random.randint(1, 100, size=4)})\n",
    "print(\"DataFrame 1:\")\n",
    "print(df1)\n",
    "print(\"DataFrame 2:\")\n",
    "print(df2)\n",
    "\n",
    "# Merge the DataFrames using the common column\n",
    "merged = pd.merge(df1, df2, on='Key')\n",
    "print(\"Merged DataFrame:\")\n",
    "print(merged)"
   ]
  }
 ],
 "metadata": {
  "kernelspec": {
   "display_name": "Python 3",
   "language": "python",
   "name": "python3"
  },
  "language_info": {
   "codemirror_mode": {
    "name": "ipython",
    "version": 3
   },
   "file_extension": ".py",
   "mimetype": "text/x-python",
   "name": "python",
   "nbconvert_exporter": "python",
   "pygments_lexer": "ipython3",
   "version": "3.12.0"
  }
 },
 "nbformat": 4,
 "nbformat_minor": 5
}
