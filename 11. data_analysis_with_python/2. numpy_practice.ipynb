{
 "cells": [
  {
   "cell_type": "markdown",
   "id": "8ea95e16",
   "metadata": {},
   "source": [
    "# Module: NumPy Assignments\n",
    "## Lesson: NumPy\n",
    "### Assignment 1: Array Creation and Manipulation\n",
    "\n",
    "1. Create a NumPy array of shape (5, 5) filled with random integers between 1 and 20. Replace all the elements in the third column with 1."
   ]
  },
  {
   "cell_type": "code",
   "execution_count": 4,
   "id": "dc57005f",
   "metadata": {},
   "outputs": [
    {
     "name": "stdout",
     "output_type": "stream",
     "text": [
      "Original array\n",
      "[[18 12  9  7  3]\n",
      " [ 1  6 10 16  6]\n",
      " [ 5  9  6 19  9]\n",
      " [11 12 12  7  7]\n",
      " [12  3 19 15  6]]\n",
      "Modified array\n",
      "[[18 12  1  7  3]\n",
      " [ 1  6  1 16  6]\n",
      " [ 5  9  1 19  9]\n",
      " [11 12  1  7  7]\n",
      " [12  3  1 15  6]]\n"
     ]
    }
   ],
   "source": [
    "import numpy as np\n",
    "array1 = np.random.randint(1,20, size =(5,5))\n",
    "print('Original array')\n",
    "print(array1)\n",
    "#replace all the elements in the third column\n",
    "array1[:,2]=1\n",
    "\n",
    "print('Modified array')\n",
    "print(array1)\n"
   ]
  },
  {
   "cell_type": "markdown",
   "id": "342ae6f1",
   "metadata": {},
   "source": [
    "2. Create a NumPy array of shape (4, 4) with values from 1 to 16. Replace the diagonal elements with 0."
   ]
  },
  {
   "cell_type": "code",
   "execution_count": 8,
   "id": "7cc0930a",
   "metadata": {},
   "outputs": [
    {
     "name": "stdout",
     "output_type": "stream",
     "text": [
      "original array\n",
      "[[ 1  2  3  4]\n",
      " [ 5  6  7  8]\n",
      " [ 9 10 11 12]\n",
      " [13 14 15 16]]\n",
      "modified array\n",
      "[[ 0  2  3  4]\n",
      " [ 5  0  7  8]\n",
      " [ 9 10  0 12]\n",
      " [13 14 15  0]]\n"
     ]
    }
   ],
   "source": [
    "array2 = np.arange(1,17).reshape(4,4)\n",
    "print(\"original array\")\n",
    "print(array2)\n",
    "#replace the diagonal elements with 0\n",
    "np.fill_diagonal(array2,0)\n",
    "print(\"modified array\")\n",
    "print(array2)"
   ]
  },
  {
   "cell_type": "markdown",
   "id": "67bdc153",
   "metadata": {},
   "source": [
    "### Assignment 2: Array Indexing and Slicing\n",
    "\n",
    "1. Create a NumPy array of shape (6, 6) with values from 1 to 36. Extract the sub-array consisting of the 3rd to 5th rows and 2nd to 4th columns."
   ]
  },
  {
   "cell_type": "code",
   "execution_count": 13,
   "id": "88527573",
   "metadata": {},
   "outputs": [
    {
     "name": "stdout",
     "output_type": "stream",
     "text": [
      "original array\n",
      "[[ 1  2  3  4  5  6]\n",
      " [ 7  8  9 10 11 12]\n",
      " [13 14 15 16 17 18]\n",
      " [19 20 21 22 23 24]\n",
      " [25 26 27 28 29 30]\n",
      " [31 32 33 34 35 36]]\n",
      "Subarray\n",
      "[[14 15 16]\n",
      " [20 21 22]\n",
      " [26 27 28]]\n"
     ]
    }
   ],
   "source": [
    "array3 = np.arange(1,37).reshape(6,6)\n",
    "print(\"original array\")\n",
    "print(array3)\n",
    "\n",
    "#extracting a sub array consisting 3rd to 5th rows and 2nd to 4th column\n",
    "sub_array3=array3[2:5,1:4]\n",
    "print(\"Subarray\")\n",
    "print(sub_array3)"
   ]
  },
  {
   "cell_type": "markdown",
   "id": "52a80b1b",
   "metadata": {},
   "source": [
    "2. Create a NumPy array of shape (5, 5) with random integers. Extract the elements on the border."
   ]
  },
  {
   "cell_type": "code",
   "execution_count": 27,
   "id": "6c0d0653",
   "metadata": {},
   "outputs": [
    {
     "name": "stdout",
     "output_type": "stream",
     "text": [
      "original array\n",
      "[[ 8  9 14  6 20]\n",
      " [ 8  4 20 13 16]\n",
      " [ 9 16 10  7  1]\n",
      " [16  7  6 16  6]\n",
      " [11  9  5 16 12]]\n",
      "Border element\n",
      "[ 8  9 14  6 20 11  9  5 16 12  8  9 16 16  1  6]\n"
     ]
    }
   ],
   "source": [
    "array4 = np.random.randint(1,21, size = (5,5))\n",
    "print('original array')\n",
    "print(array4)\n",
    "#extract the element on the border\n",
    "array4[0] #first row\n",
    "array4[-1,:] #last row\n",
    "array4[:,0]\n",
    "array4[:,-1]\n",
    "border_element= np.concatenate((array4[0,:],array4[-1,:],array4[1:-1,0],array4[1:-1,-1]))\n",
    "print('Border element')\n",
    "print(border_element)"
   ]
  },
  {
   "cell_type": "markdown",
   "id": "7a118aa9",
   "metadata": {},
   "source": [
    "### Assignment 3: Array Operations\n",
    "\n",
    "1. Create two NumPy arrays of shape (3, 4) filled with random integers. Perform element-wise addition, subtraction, multiplication, and division."
   ]
  },
  {
   "cell_type": "code",
   "execution_count": 40,
   "id": "28a8edaf",
   "metadata": {},
   "outputs": [
    {
     "name": "stdout",
     "output_type": "stream",
     "text": [
      "Array 1: \n",
      "[[ 8  8  2  1]\n",
      " [ 3 10  3 10]\n",
      " [10 10  3  5]]\n",
      "array 2: \n",
      "[[ 6  3  6 10]\n",
      " [10  6  9  1]\n",
      " [ 1  4  6  2]]\n",
      "Element wise addition:\n",
      " [[14 11  8 11]\n",
      " [13 16 12 11]\n",
      " [11 14  9  7]]\n",
      "Element wise substraction:\n",
      " [[ 2  5 -4 -9]\n",
      " [-7  4 -6  9]\n",
      " [ 9  6 -3  3]]\n",
      "Element wise multiplication:\n",
      " [[48 24 12 10]\n",
      " [30 60 27 10]\n",
      " [10 40 18 10]]\n",
      "Element wise division:\n",
      " [[ 1.33333333  2.66666667  0.33333333  0.1       ]\n",
      " [ 0.3         1.66666667  0.33333333 10.        ]\n",
      " [10.          2.5         0.5         2.5       ]]\n"
     ]
    }
   ],
   "source": [
    "array5 = np.random.randint(1,11, size = (3,4))\n",
    "array6 = np.random.randint(1,11, size = (3,4))\n",
    "print(\"Array 1: \")\n",
    "print(array5)\n",
    "print(\"array 2: \")\n",
    "print(array6)\n",
    "\n",
    "#perform element wise operations\n",
    "addition = array5 + array6\n",
    "substraction = array5 - array6\n",
    "multiplication = array5 * array6\n",
    "division = array5 / array6\n",
    "\n",
    "print(f\"Element wise addition:\\n {addition}\")\n",
    "print(f\"Element wise substraction:\\n {substraction}\")\n",
    "print(f\"Element wise multiplication:\\n {multiplication}\")\n",
    "print(f\"Element wise division:\\n {division}\")\n",
    "\n"
   ]
  },
  {
   "cell_type": "markdown",
   "id": "c9066f5c",
   "metadata": {},
   "source": [
    "2. Create a NumPy array of shape (4, 4) with values from 1 to 16. Compute the row-wise and column-wise sum."
   ]
  },
  {
   "cell_type": "code",
   "execution_count": 46,
   "id": "e14fcbc1",
   "metadata": {},
   "outputs": [
    {
     "name": "stdout",
     "output_type": "stream",
     "text": [
      "Original Array\n",
      "[[ 1  2  3  4]\n",
      " [ 5  6  7  8]\n",
      " [ 9 10 11 12]\n",
      " [13 14 15 16]]\n",
      "Row wise sum:\n",
      " [10 26 42 58]\n",
      "Column wise sum:\n",
      "[28 32 36 40]\n"
     ]
    }
   ],
   "source": [
    "array7 = np.arange(1,17).reshape(4,4)\n",
    "print(\"Original Array\")\n",
    "print(array7)\n",
    "row_sum = np.sum(array7, axis=1)\n",
    "column_sum = np.sum(array7, axis=0)\n",
    "\n",
    "print(f\"Row wise sum:\\n {row_sum}\")\n",
    "print(f\"Column wise sum:\\n{column_sum}\")"
   ]
  },
  {
   "cell_type": "markdown",
   "id": "525ead1f",
   "metadata": {},
   "source": [
    "### Assignment 4: Statistical Operations\n",
    "\n",
    "1. Create a NumPy array of shape (5, 5) filled with random integers. Compute the mean, median, standard deviation, and variance of the array."
   ]
  },
  {
   "cell_type": "code",
   "execution_count": 51,
   "id": "60b9cf62",
   "metadata": {},
   "outputs": [
    {
     "name": "stdout",
     "output_type": "stream",
     "text": [
      "Original Array\n",
      "[[11 12  3  5  5]\n",
      " [ 4  5  6  8  2]\n",
      " [14 14  7  7  1]\n",
      " [19 10 12  7 14]\n",
      " [11 11 11  8 16]]\n",
      "Mean value of the array:\n",
      " 8.92\n",
      "Median value of the array:\n",
      " 8.0\n",
      "standard deviation value of the array:\n",
      " 4.489276110911423\n",
      "Variance value of the array:\n",
      " 20.153599999999997\n"
     ]
    }
   ],
   "source": [
    "array8 = np.random.randint(1,20, size = (5,5))\n",
    "print(\"Original Array\")\n",
    "print(array8)\n",
    "\n",
    "#find the mean\n",
    "mean = np.mean(array8)\n",
    "\n",
    "#find the median\n",
    "median = np.median(array8)\n",
    "\n",
    "#find the std \n",
    "std = np.std(array8)\n",
    "\n",
    "#find the variance\n",
    "variance = np.var(array8)\n",
    "\n",
    "print(f\"Mean value of the array:\\n {mean}\")\n",
    "print(f\"Median value of the array:\\n {median}\")\n",
    "print(f\"standard deviation value of the array:\\n {std}\")\n",
    "print(f\"Variance value of the array:\\n {variance}\")"
   ]
  },
  {
   "cell_type": "markdown",
   "id": "3bfea201",
   "metadata": {},
   "source": [
    "2. Create a NumPy array of shape (3, 3) with values from 1 to 9. Normalize the array (i.e., scale the values to have a mean of 0 and a standard deviation of 1)."
   ]
  },
  {
   "cell_type": "code",
   "execution_count": 55,
   "id": "9dc007a6",
   "metadata": {},
   "outputs": [
    {
     "name": "stdout",
     "output_type": "stream",
     "text": [
      "Original array\n",
      "[[1 2 3]\n",
      " [4 5 6]\n",
      " [7 8 9]]\n",
      "Normalized array:\n",
      " [[-1.54919334 -1.161895   -0.77459667]\n",
      " [-0.38729833  0.          0.38729833]\n",
      " [ 0.77459667  1.161895    1.54919334]]\n"
     ]
    }
   ],
   "source": [
    "array9 = np.arange(1,10).reshape(3,3)\n",
    "print(\"Original array\")\n",
    "print(array9)\n",
    "\n",
    "#Normalize the array\n",
    "mean = np.mean(array9)\n",
    "std = np.std(array9)\n",
    "normalized_array = (array9-mean) / std\n",
    "\n",
    "print(f\"Normalized array:\\n {normalized_array}\")\n"
   ]
  }
 ],
 "metadata": {
  "kernelspec": {
   "display_name": "Python 3",
   "language": "python",
   "name": "python3"
  },
  "language_info": {
   "codemirror_mode": {
    "name": "ipython",
    "version": 3
   },
   "file_extension": ".py",
   "mimetype": "text/x-python",
   "name": "python",
   "nbconvert_exporter": "python",
   "pygments_lexer": "ipython3",
   "version": "3.12.0"
  }
 },
 "nbformat": 4,
 "nbformat_minor": 5
}
