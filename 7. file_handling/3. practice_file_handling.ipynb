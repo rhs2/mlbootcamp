{
 "cells": [
  {
   "cell_type": "markdown",
   "id": "c62b8256",
   "metadata": {},
   "source": [
    "# Module 7: File Handling Assignments\n",
    "## 1 : File Handling and Operations\n",
    "### Assignment 1: Reading a File\n",
    "\n",
    "Write a function that reads the contents of a file named `sample.txt` and prints each line."
   ]
  },
  {
   "cell_type": "code",
   "execution_count": null,
   "id": "30658e8f",
   "metadata": {},
   "outputs": [],
   "source": [
    "def read_file(file_path):\n",
    "    with open(file_path, 'r') as file:\n",
    "        for line in file:\n",
    "            print(line.strip())\n",
    "#test\n",
    "#read_file('sample.txt')"
   ]
  },
  {
   "cell_type": "markdown",
   "id": "71822582",
   "metadata": {},
   "source": [
    "### Assignment 2: Writing to a File\n",
    "\n",
    "Write a function that writes a list of strings to a file named `output.txt`, with each string on a new line."
   ]
  },
  {
   "cell_type": "code",
   "execution_count": 1,
   "id": "9ef29a65",
   "metadata": {},
   "outputs": [],
   "source": [
    "def write_line(lines, file_path):\n",
    "    with open(file_path, 'w') as file:\n",
    "        for line in lines:\n",
    "            file.write(lines + '\\n')\n",
    "#test\n",
    "#write_file([\"hello\", \"world\"], \"output.txt\")"
   ]
  },
  {
   "cell_type": "markdown",
   "id": "f3ed3cc1",
   "metadata": {},
   "source": [
    "### Assignment 3: Copying a File\n",
    "\n",
    "Write a function that copies the contents of a file named `source.txt` to a new file named `destination.txt`."
   ]
  },
  {
   "cell_type": "code",
   "execution_count": null,
   "id": "5eab0ca2",
   "metadata": {},
   "outputs": [],
   "source": [
    "def copy_file(source, destination):\n",
    "    with open(source, 'r') as src:\n",
    "        with open(destination,'w') as dest:\n",
    "            dest.write(src.read())\n",
    "#test\n",
    "# copy_file('source.txt', 'destination.txt')"
   ]
  },
  {
   "cell_type": "markdown",
   "id": "6bfdaaaf",
   "metadata": {},
   "source": [
    "### Assignment 4: Appending to a File\n",
    "\n",
    "Write a function that appends a given string to the end of a file named `log.txt`."
   ]
  },
  {
   "cell_type": "code",
   "execution_count": null,
   "id": "8f6f575d",
   "metadata": {},
   "outputs": [],
   "source": [
    "def append_to_file(line, file_path):\n",
    "    with open(file_path, 'a') as file:\n",
    "        file.write(line + '\\n')\n",
    "#test\n",
    "# append_to_file('this is a new log entry', 'log.txt')"
   ]
  },
  {
   "cell_type": "markdown",
   "id": "97c0086c",
   "metadata": {},
   "source": [
    "### Assignment 5: Counting Words in a File\n",
    "\n",
    "Write a function that reads the contents of a file named `document.txt` and returns the number of words in the file."
   ]
  },
  {
   "cell_type": "code",
   "execution_count": 10,
   "id": "0c1ad07e",
   "metadata": {},
   "outputs": [],
   "source": [
    "def count_words(file_path):\n",
    "    with open(file_path, 'r') as file:\n",
    "        text = file.read()\n",
    "        words = text.split()\n",
    "        return len(words)\n",
    "#test\n",
    "# print(count_words('example2.txt'))"
   ]
  },
  {
   "cell_type": "markdown",
   "id": "12f6ecc5",
   "metadata": {},
   "source": [
    "### Assignment 6: Finding and Replacing Text\n",
    "\n",
    "Write a function that finds and replaces all occurrences of a given word in a file named `data.txt` with another word."
   ]
  },
  {
   "cell_type": "code",
   "execution_count": 12,
   "id": "e3447f4e",
   "metadata": {},
   "outputs": [],
   "source": [
    "def find_and_replace(file_path, old_word, new_word):\n",
    "    with open(file_path, 'r') as file:\n",
    "        text = file.read()\n",
    "    new_text = text.replace(old_word, new_word)\n",
    "    with open(file_path, 'w') as file:\n",
    "        file.write(new_text)\n",
    "\n",
    "#test\n",
    "# find_and_replace('data.txt', 'old', 'new')"
   ]
  },
  {
   "cell_type": "markdown",
   "id": "c02c4b47",
   "metadata": {},
   "source": [
    "### Assignment 7: Reading a File in Reverse\n",
    "\n",
    "Write a function that reads the contents of a file named `reverse.txt` and prints each line in reverse order."
   ]
  },
  {
   "cell_type": "code",
   "execution_count": 13,
   "id": "ad3b3bed",
   "metadata": {},
   "outputs": [],
   "source": [
    "def read_reverse(filename):\n",
    "    with open(filename, 'r') as file:\n",
    "        lines = file.readlines()\n",
    "    for line in reversed(lines):\n",
    "        print(line.strip())\n",
    "\n",
    "# Test\n",
    "# read_reverse('reverse.txt')"
   ]
  },
  {
   "cell_type": "markdown",
   "id": "33395725",
   "metadata": {},
   "source": [
    "### Assignment 8: Counting Lines, Words, and Characters\n",
    "\n",
    "Write a function that reads the contents of a file named `stats.txt` and returns the number of lines, words, and characters in the file."
   ]
  },
  {
   "cell_type": "code",
   "execution_count": 14,
   "id": "b5cb6b52",
   "metadata": {},
   "outputs": [],
   "source": [
    "def count_lwc(filename):\n",
    "    with open(filename, 'r') as file:\n",
    "        lines = file.readlines()\n",
    "        words = sum(len(line.split()) for line in lines)\n",
    "        characters = sum(len(line) for line in lines)\n",
    "    return len(lines), words, characters\n",
    "\n",
    "# Test\n",
    "# print(count_lwc('stats.txt'))"
   ]
  }
 ],
 "metadata": {
  "kernelspec": {
   "display_name": "Python 3",
   "language": "python",
   "name": "python3"
  },
  "language_info": {
   "codemirror_mode": {
    "name": "ipython",
    "version": 3
   },
   "file_extension": ".py",
   "mimetype": "text/x-python",
   "name": "python",
   "nbconvert_exporter": "python",
   "pygments_lexer": "ipython3",
   "version": "3.12.0"
  }
 },
 "nbformat": 4,
 "nbformat_minor": 5
}
