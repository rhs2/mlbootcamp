{
 "cells": [
  {
   "cell_type": "markdown",
   "id": "c5c5bdcc",
   "metadata": {},
   "source": [
    "# creating virtual env with python"
   ]
  },
  {
   "cell_type": "markdown",
   "id": "9674973e",
   "metadata": {},
   "source": [
    "## 1. always prefer using conda command to create a env it is better in many ways\n",
    "----> conda create -p venv python==3.12\n",
    "----> we can specify the name of the venv and the version we would like to use for python"
   ]
  },
  {
   "cell_type": "markdown",
   "id": "14239993",
   "metadata": {},
   "source": [
    "## 2. also we can use with python\n",
    "----> python -m venv mlbootcamp(env_folder_name)"
   ]
  },
  {
   "cell_type": "markdown",
   "id": "59041904",
   "metadata": {},
   "source": [
    "## 3. to activate the env \n",
    "\n",
    "---->mlbootcamp\\Scripts\\activate "
   ]
  },
  {
   "cell_type": "markdown",
   "id": "77fc0f2c",
   "metadata": {},
   "source": [
    "## 4. then as usual we can use the same logic of requirements.txt by using pip"
   ]
  },
  {
   "cell_type": "markdown",
   "id": "42c254f1",
   "metadata": {},
   "source": [
    "## creating env with virtualenv\n"
   ]
  },
  {
   "cell_type": "markdown",
   "id": "be1ed6f0",
   "metadata": {},
   "source": [
    "## 1. creating a env with virtualenv\n",
    "----> virtualenv -p python3(python_version) virtual_env(folder_name)\n"
   ]
  },
  {
   "cell_type": "markdown",
   "id": "3e7c34ed",
   "metadata": {},
   "source": [
    "## 2. to activate it \n",
    "\n",
    "---->virtual_env\\Scripts\\activate"
   ]
  },
  {
   "cell_type": "markdown",
   "id": "d9d06679",
   "metadata": {},
   "source": [
    "## 3. rest of the things does as usual we did with python and conda"
   ]
  },
  {
   "cell_type": "markdown",
   "id": "64a49a63",
   "metadata": {},
   "source": [
    "## but try to use conda it is more flexiable and easy to work\n",
    "-----> conda create -p(present_working_directory) venv(env_folder_name) python==3.12(python_version)\n",
    "\n",
    "### this will create a env on the conda base\n",
    "-----> conda create -n(base env where I have installed miniforge) venv(env_folder_name) python==3.12(python_version)"
   ]
  }
 ],
 "metadata": {
  "language_info": {
   "name": "python"
  }
 },
 "nbformat": 4,
 "nbformat_minor": 5
}
