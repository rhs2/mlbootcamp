{
 "cells": [
  {
   "cell_type": "markdown",
   "id": "8ea95e16",
   "metadata": {},
   "source": [
    "# Module: NumPy Assignments\n",
    "## Lesson: NumPy\n",
    "### Assignment 1: Array Creation and Manipulation\n",
    "\n",
    "1. Create a NumPy array of shape (5, 5) filled with random integers between 1 and 20. Replace all the elements in the third column with 1."
   ]
  },
  {
   "cell_type": "code",
   "execution_count": 4,
   "id": "dc57005f",
   "metadata": {},
   "outputs": [
    {
     "name": "stdout",
     "output_type": "stream",
     "text": [
      "Original array\n",
      "[[18 12  9  7  3]\n",
      " [ 1  6 10 16  6]\n",
      " [ 5  9  6 19  9]\n",
      " [11 12 12  7  7]\n",
      " [12  3 19 15  6]]\n",
      "Modified array\n",
      "[[18 12  1  7  3]\n",
      " [ 1  6  1 16  6]\n",
      " [ 5  9  1 19  9]\n",
      " [11 12  1  7  7]\n",
      " [12  3  1 15  6]]\n"
     ]
    }
   ],
   "source": [
    "import numpy as np\n",
    "array1 = np.random.randint(1,20, size =(5,5))\n",
    "print('Original array')\n",
    "print(array1)\n",
    "#replace all the elements in the third column\n",
    "array1[:,2]=1\n",
    "\n",
    "print('Modified array')\n",
    "print(array1)\n"
   ]
  },
  {
   "cell_type": "markdown",
   "id": "342ae6f1",
   "metadata": {},
   "source": [
    "2. Create a NumPy array of shape (4, 4) with values from 1 to 16. Replace the diagonal elements with 0."
   ]
  },
  {
   "cell_type": "code",
   "execution_count": 8,
   "id": "7cc0930a",
   "metadata": {},
   "outputs": [
    {
     "name": "stdout",
     "output_type": "stream",
     "text": [
      "original array\n",
      "[[ 1  2  3  4]\n",
      " [ 5  6  7  8]\n",
      " [ 9 10 11 12]\n",
      " [13 14 15 16]]\n",
      "modified array\n",
      "[[ 0  2  3  4]\n",
      " [ 5  0  7  8]\n",
      " [ 9 10  0 12]\n",
      " [13 14 15  0]]\n"
     ]
    }
   ],
   "source": [
    "array2 = np.arange(1,17).reshape(4,4)\n",
    "print(\"original array\")\n",
    "print(array2)\n",
    "#replace the diagonal elements with 0\n",
    "np.fill_diagonal(array2,0)\n",
    "print(\"modified array\")\n",
    "print(array2)"
   ]
  },
  {
   "cell_type": "markdown",
   "id": "67bdc153",
   "metadata": {},
   "source": [
    "### Assignment 2: Array Indexing and Slicing\n",
    "\n",
    "1. Create a NumPy array of shape (6, 6) with values from 1 to 36. Extract the sub-array consisting of the 3rd to 5th rows and 2nd to 4th columns."
   ]
  },
  {
   "cell_type": "code",
   "execution_count": 13,
   "id": "88527573",
   "metadata": {},
   "outputs": [
    {
     "name": "stdout",
     "output_type": "stream",
     "text": [
      "original array\n",
      "[[ 1  2  3  4  5  6]\n",
      " [ 7  8  9 10 11 12]\n",
      " [13 14 15 16 17 18]\n",
      " [19 20 21 22 23 24]\n",
      " [25 26 27 28 29 30]\n",
      " [31 32 33 34 35 36]]\n",
      "Subarray\n",
      "[[14 15 16]\n",
      " [20 21 22]\n",
      " [26 27 28]]\n"
     ]
    }
   ],
   "source": [
    "array3 = np.arange(1,37).reshape(6,6)\n",
    "print(\"original array\")\n",
    "print(array3)\n",
    "\n",
    "#extracting a sub array consisting 3rd to 5th rows and 2nd to 4th column\n",
    "sub_array3=array3[2:5,1:4]\n",
    "print(\"Subarray\")\n",
    "print(sub_array3)"
   ]
  },
  {
   "cell_type": "markdown",
   "id": "52a80b1b",
   "metadata": {},
   "source": [
    "2. Create a NumPy array of shape (5, 5) with random integers. Extract the elements on the border."
   ]
  },
  {
   "cell_type": "code",
   "execution_count": 27,
   "id": "6c0d0653",
   "metadata": {},
   "outputs": [
    {
     "name": "stdout",
     "output_type": "stream",
     "text": [
      "original array\n",
      "[[ 8  9 14  6 20]\n",
      " [ 8  4 20 13 16]\n",
      " [ 9 16 10  7  1]\n",
      " [16  7  6 16  6]\n",
      " [11  9  5 16 12]]\n",
      "Border element\n",
      "[ 8  9 14  6 20 11  9  5 16 12  8  9 16 16  1  6]\n"
     ]
    }
   ],
   "source": [
    "array4 = np.random.randint(1,21, size = (5,5))\n",
    "print('original array')\n",
    "print(array4)\n",
    "#extract the element on the border\n",
    "array4[0] #first row\n",
    "array4[-1,:] #last row\n",
    "array4[:,0]\n",
    "array4[:,-1]\n",
    "border_element= np.concatenate((array4[0,:],array4[-1,:],array4[1:-1,0],array4[1:-1,-1]))\n",
    "print('Border element')\n",
    "print(border_element)"
   ]
  },
  {
   "cell_type": "markdown",
   "id": "7a118aa9",
   "metadata": {},
   "source": [
    "### Assignment 3: Array Operations\n",
    "\n",
    "1. Create two NumPy arrays of shape (3, 4) filled with random integers. Perform element-wise addition, subtraction, multiplication, and division."
   ]
  },
  {
   "cell_type": "code",
   "execution_count": 40,
   "id": "28a8edaf",
   "metadata": {},
   "outputs": [
    {
     "name": "stdout",
     "output_type": "stream",
     "text": [
      "Array 1: \n",
      "[[ 8  8  2  1]\n",
      " [ 3 10  3 10]\n",
      " [10 10  3  5]]\n",
      "array 2: \n",
      "[[ 6  3  6 10]\n",
      " [10  6  9  1]\n",
      " [ 1  4  6  2]]\n",
      "Element wise addition:\n",
      " [[14 11  8 11]\n",
      " [13 16 12 11]\n",
      " [11 14  9  7]]\n",
      "Element wise substraction:\n",
      " [[ 2  5 -4 -9]\n",
      " [-7  4 -6  9]\n",
      " [ 9  6 -3  3]]\n",
      "Element wise multiplication:\n",
      " [[48 24 12 10]\n",
      " [30 60 27 10]\n",
      " [10 40 18 10]]\n",
      "Element wise division:\n",
      " [[ 1.33333333  2.66666667  0.33333333  0.1       ]\n",
      " [ 0.3         1.66666667  0.33333333 10.        ]\n",
      " [10.          2.5         0.5         2.5       ]]\n"
     ]
    }
   ],
   "source": [
    "array5 = np.random.randint(1,11, size = (3,4))\n",
    "array6 = np.random.randint(1,11, size = (3,4))\n",
    "print(\"Array 1: \")\n",
    "print(array5)\n",
    "print(\"array 2: \")\n",
    "print(array6)\n",
    "\n",
    "#perform element wise operations\n",
    "addition = array5 + array6\n",
    "substraction = array5 - array6\n",
    "multiplication = array5 * array6\n",
    "division = array5 / array6\n",
    "\n",
    "print(f\"Element wise addition:\\n {addition}\")\n",
    "print(f\"Element wise substraction:\\n {substraction}\")\n",
    "print(f\"Element wise multiplication:\\n {multiplication}\")\n",
    "print(f\"Element wise division:\\n {division}\")\n",
    "\n"
   ]
  },
  {
   "cell_type": "markdown",
   "id": "c9066f5c",
   "metadata": {},
   "source": [
    "2. Create a NumPy array of shape (4, 4) with values from 1 to 16. Compute the row-wise and column-wise sum."
   ]
  },
  {
   "cell_type": "code",
   "execution_count": 46,
   "id": "e14fcbc1",
   "metadata": {},
   "outputs": [
    {
     "name": "stdout",
     "output_type": "stream",
     "text": [
      "Original Array\n",
      "[[ 1  2  3  4]\n",
      " [ 5  6  7  8]\n",
      " [ 9 10 11 12]\n",
      " [13 14 15 16]]\n",
      "Row wise sum:\n",
      " [10 26 42 58]\n",
      "Column wise sum:\n",
      "[28 32 36 40]\n"
     ]
    }
   ],
   "source": [
    "array7 = np.arange(1,17).reshape(4,4)\n",
    "print(\"Original Array\")\n",
    "print(array7)\n",
    "row_sum = np.sum(array7, axis=1)\n",
    "column_sum = np.sum(array7, axis=0)\n",
    "\n",
    "print(f\"Row wise sum:\\n {row_sum}\")\n",
    "print(f\"Column wise sum:\\n{column_sum}\")"
   ]
  },
  {
   "cell_type": "markdown",
   "id": "525ead1f",
   "metadata": {},
   "source": [
    "### Assignment 4: Statistical Operations\n",
    "\n",
    "1. Create a NumPy array of shape (5, 5) filled with random integers. Compute the mean, median, standard deviation, and variance of the array."
   ]
  },
  {
   "cell_type": "code",
   "execution_count": 51,
   "id": "60b9cf62",
   "metadata": {},
   "outputs": [
    {
     "name": "stdout",
     "output_type": "stream",
     "text": [
      "Original Array\n",
      "[[11 12  3  5  5]\n",
      " [ 4  5  6  8  2]\n",
      " [14 14  7  7  1]\n",
      " [19 10 12  7 14]\n",
      " [11 11 11  8 16]]\n",
      "Mean value of the array:\n",
      " 8.92\n",
      "Median value of the array:\n",
      " 8.0\n",
      "standard deviation value of the array:\n",
      " 4.489276110911423\n",
      "Variance value of the array:\n",
      " 20.153599999999997\n"
     ]
    }
   ],
   "source": [
    "array8 = np.random.randint(1,20, size = (5,5))\n",
    "print(\"Original Array\")\n",
    "print(array8)\n",
    "\n",
    "#find the mean\n",
    "mean = np.mean(array8)\n",
    "\n",
    "#find the median\n",
    "median = np.median(array8)\n",
    "\n",
    "#find the std \n",
    "std = np.std(array8)\n",
    "\n",
    "#find the variance\n",
    "variance = np.var(array8)\n",
    "\n",
    "print(f\"Mean value of the array:\\n {mean}\")\n",
    "print(f\"Median value of the array:\\n {median}\")\n",
    "print(f\"standard deviation value of the array:\\n {std}\")\n",
    "print(f\"Variance value of the array:\\n {variance}\")"
   ]
  },
  {
   "cell_type": "markdown",
   "id": "3bfea201",
   "metadata": {},
   "source": [
    "2. Create a NumPy array of shape (3, 3) with values from 1 to 9. Normalize the array (i.e., scale the values to have a mean of 0 and a standard deviation of 1)."
   ]
  },
  {
   "cell_type": "code",
   "execution_count": 55,
   "id": "9dc007a6",
   "metadata": {},
   "outputs": [
    {
     "name": "stdout",
     "output_type": "stream",
     "text": [
      "Original array\n",
      "[[1 2 3]\n",
      " [4 5 6]\n",
      " [7 8 9]]\n",
      "Normalized array:\n",
      " [[-1.54919334 -1.161895   -0.77459667]\n",
      " [-0.38729833  0.          0.38729833]\n",
      " [ 0.77459667  1.161895    1.54919334]]\n"
     ]
    }
   ],
   "source": [
    "array9 = np.arange(1,10).reshape(3,3)\n",
    "print(\"Original array\")\n",
    "print(array9)\n",
    "\n",
    "#Normalize the array\n",
    "mean = np.mean(array9)\n",
    "std = np.std(array9)\n",
    "normalized_array = (array9-mean) / std\n",
    "\n",
    "print(f\"Normalized array:\\n {normalized_array}\")\n"
   ]
  },
  {
   "cell_type": "markdown",
   "id": "02260781",
   "metadata": {},
   "source": [
    "### Assignment 5: Broadcasting\n",
    "\n",
    "1. Create a NumPy array of shape (3, 3) filled with random integers. Add a 1D array of shape (3,) to each row of the 2D array using broadcasting."
   ]
  },
  {
   "cell_type": "code",
   "execution_count": 57,
   "id": "46b18e9b",
   "metadata": {},
   "outputs": [
    {
     "name": "stdout",
     "output_type": "stream",
     "text": [
      "Original Array:\n",
      " [[4 8 7]\n",
      " [3 1 7]\n",
      " [6 9 9]]\n",
      "1D array:\n",
      " [3 4 2] \n",
      "resulting array:\n",
      " [[ 7 12  9]\n",
      " [ 6  5  9]\n",
      " [ 9 13 11]]\n"
     ]
    }
   ],
   "source": [
    "array10= np.random.randint(1,10, size=(3,3))\n",
    "row_array10= np.random.randint(1,10, size=(3,))\n",
    "print(f\"Original Array:\\n {array10}\")\n",
    "print(f\"1D array:\\n {row_array10} \")\n",
    "# Add the 1D array to each row of the 2D array using broadcasting\n",
    "result = array10 + row_array10\n",
    "print(f\"resulting array:\\n {result}\")"
   ]
  },
  {
   "cell_type": "markdown",
   "id": "4e83b5d3",
   "metadata": {},
   "source": [
    "2. Create a NumPy array of shape (4, 4) filled with random integers. Subtract a 1D array of shape (4,) from each column of the 2D array using broadcasting."
   ]
  },
  {
   "cell_type": "code",
   "execution_count": 62,
   "id": "cabde6ce",
   "metadata": {},
   "outputs": [
    {
     "name": "stdout",
     "output_type": "stream",
     "text": [
      "Original array:\n",
      " [[4 3 9 5]\n",
      " [4 8 1 7]\n",
      " [6 6 7 9]\n",
      " [8 6 7 1]]\n",
      "1D array:\n",
      " [1 5 8 9]\n",
      "resulting array:\n",
      " [[ 3  2  8  4]\n",
      " [-1  3 -4  2]\n",
      " [-2 -2 -1  1]\n",
      " [-1 -3 -2 -8]]\n"
     ]
    }
   ],
   "source": [
    "array11= np.random.randint(1,10, size= (4,4))\n",
    "column_array11= np.random.randint(1,10, size =(4,))\n",
    "print(f\"Original array:\\n {array11}\")\n",
    "print(f\"1D array:\\n {column_array11}\")\n",
    "\n",
    "# Subtract the 1D array from each column of the 2D array using broadcasting\n",
    "# column_array11[:,np.newaxis] making row into column\n",
    "result = array11- column_array11[:, np.newaxis]\n",
    "print(f\"resulting array:\\n {result}\")\n",
    "\n"
   ]
  },
  {
   "cell_type": "markdown",
   "id": "3326a689",
   "metadata": {},
   "source": [
    "### Assignment 6: Linear Algebra\n",
    "\n",
    "1. Create a NumPy array of shape (3, 3) representing a matrix. Compute its determinant, inverse, and eigenvalues."
   ]
  },
  {
   "cell_type": "code",
   "execution_count": 72,
   "id": "a72593c6",
   "metadata": {},
   "outputs": [
    {
     "name": "stdout",
     "output_type": "stream",
     "text": [
      "Original matrix: \n",
      " [[ 5  5  2]\n",
      " [ 5  6  4]\n",
      " [ 6  4 10]]\n",
      "Determinant: \n",
      " 57.999999999999986\n",
      "Inverse: \n",
      " [[ 0.75862069 -0.72413793  0.13793103]\n",
      " [-0.44827586  0.65517241 -0.17241379]\n",
      " [-0.27586207  0.17241379  0.0862069 ]]\n",
      "EigenValues: \n",
      " [15.6909911   0.82420248  4.48480643]\n"
     ]
    }
   ],
   "source": [
    "# Create a NumPy array of shape (3, 3) representing a matrix\n",
    "array12 = np.random.randint(1,11, size=(3,3))\n",
    "print(f\"Original matrix: \\n {array12}\")\n",
    "\n",
    "#compute its determinant\n",
    "determinant= np.linalg.det(array12)\n",
    "print(f\"Determinant: \\n {determinant}\")\n",
    "\n",
    "#computer inverse\n",
    "inverse = np.linalg.inv(array12)\n",
    "print(f\"Inverse: \\n {inverse}\")\n",
    "\n",
    "#compute eigenvalues\n",
    "eigen_values = np.linalg.eigvals(array12)\n",
    "print(f\"EigenValues: \\n {eigen_values}\")\n",
    "\n"
   ]
  },
  {
   "cell_type": "markdown",
   "id": "96f8791c",
   "metadata": {},
   "source": [
    "2. Create two NumPy arrays of shape (2, 3) and (3, 2). Perform matrix multiplication on these arrays."
   ]
  },
  {
   "cell_type": "code",
   "execution_count": 74,
   "id": "281955c4",
   "metadata": {},
   "outputs": [
    {
     "name": "stdout",
     "output_type": "stream",
     "text": [
      "Array 1:\n",
      " [[4 5 8]\n",
      " [8 9 6]]\n",
      "array 2:\n",
      " [[ 9  4]\n",
      " [ 8  7]\n",
      " [10  2]]\n",
      "Matrix multiplication result:\n",
      " [[156  67]\n",
      " [204 107]]\n"
     ]
    }
   ],
   "source": [
    "array13 = np.random.randint(1,11, size = (2,3))\n",
    "array14 = np.random.randint(1,11, size = (3,2))\n",
    "print(f\"Array 1:\\n {array13}\")\n",
    "print(f\"array 2:\\n {array14}\")\n",
    "\n",
    "#perform the matrix multiplication\n",
    "result = np.dot(array13, array14)\n",
    "print(f\"Matrix multiplication result:\\n {result}\")"
   ]
  },
  {
   "cell_type": "markdown",
   "id": "9b24d967",
   "metadata": {},
   "source": [
    "### Assignment 7: Advanced Array Manipulation\n",
    "\n",
    "1. Create a NumPy array of shape (3, 3) with values from 1 to 9. Reshape the array to shape (1, 9) and then to shape (9, 1)."
   ]
  },
  {
   "cell_type": "code",
   "execution_count": 77,
   "id": "a03cae91",
   "metadata": {},
   "outputs": [
    {
     "name": "stdout",
     "output_type": "stream",
     "text": [
      "Original array: (1,9)\n",
      " [[1 2 3]\n",
      " [4 5 6]\n",
      " [7 8 9]]\n",
      "Reshaping array: \n",
      " [[1 2 3 4 5 6 7 8 9]]\n",
      "2nd Reshaping array:(9,1) \n",
      " [[1]\n",
      " [2]\n",
      " [3]\n",
      " [4]\n",
      " [5]\n",
      " [6]\n",
      " [7]\n",
      " [8]\n",
      " [9]]\n"
     ]
    }
   ],
   "source": [
    "array15= np.arange(1,10).reshape(3,3)\n",
    "array16= array15.reshape(1,9)\n",
    "print(f\"Original array: (1,9)\\n {array15}\")\n",
    "print(f\"Reshaping array: \\n {array16}\")\n",
    "#reshaping again\n",
    "array17= array16.reshape(9,1)\n",
    "print(f\"2nd Reshaping array:(9,1) \\n {array17}\")"
   ]
  },
  {
   "cell_type": "markdown",
   "id": "c464801a",
   "metadata": {},
   "source": [
    "2. Create a NumPy array of shape (5, 5) filled with random integers. Flatten the array and then reshape it back to (5, 5)."
   ]
  },
  {
   "cell_type": "code",
   "execution_count": 81,
   "id": "45ade2c1",
   "metadata": {},
   "outputs": [
    {
     "name": "stdout",
     "output_type": "stream",
     "text": [
      "Original array: \n",
      " [[19  8  7 13 19]\n",
      " [ 6 16  7 10  4]\n",
      " [19  9 11  3 11]\n",
      " [ 6 18 13  1  4]\n",
      " [11 11  7  1 10]]\n",
      "Flatten array: \n",
      " [[19  8  7 13 19  6 16  7 10  4 19  9 11  3 11  6 18 13  1  4 11 11  7  1\n",
      "  10]]\n",
      "Flatten array: \n",
      " [19  8  7 13 19  6 16  7 10  4 19  9 11  3 11  6 18 13  1  4 11 11  7  1\n",
      " 10]\n",
      "reshaped array:(5,5)\n",
      " [[19  8  7 13 19]\n",
      " [ 6 16  7 10  4]\n",
      " [19  9 11  3 11]\n",
      " [ 6 18 13  1  4]\n",
      " [11 11  7  1 10]]\n"
     ]
    }
   ],
   "source": [
    "array18 = np.random.randint(1,20, size = (5,5))\n",
    "print(f\"Original array: \\n {array18}\")\n",
    "#2 ways to flaten the array\n",
    "array19= array18.reshape(1,25)\n",
    "array20 = array18.flatten()\n",
    "print(f\"Flatten array: \\n {array19}\")\n",
    "print(f\"Flatten array: \\n {array20}\")\n",
    "\n",
    "#reshaping the array\n",
    "array21= array20.reshape(5,5)\n",
    "print(f\"reshaped array:(5,5)\\n {array21}\")"
   ]
  },
  {
   "cell_type": "markdown",
   "id": "2ed9902b",
   "metadata": {},
   "source": [
    "### Assignment 8: Fancy Indexing and Boolean Indexing\n",
    "\n",
    "1. Create a NumPy array of shape (5, 5) filled with random integers. Use fancy indexing to extract the elements at the corners of the array."
   ]
  },
  {
   "cell_type": "code",
   "execution_count": 103,
   "id": "fdc5800d",
   "metadata": {},
   "outputs": [
    {
     "name": "stdout",
     "output_type": "stream",
     "text": [
      "Original array:\n",
      " [[ 3 12 12  5 10]\n",
      " [11 19 19  3 14]\n",
      " [18  3 17  8 13]\n",
      " [ 3 10 18 17 12]\n",
      " [ 3  2 18 16 16]]\n",
      "corners:\n",
      " [ 3 10  3 16]\n"
     ]
    }
   ],
   "source": [
    "array22= np.random.randint(1,20, size = (5,5))\n",
    "print(f\"Original array:\\n {array22}\")\n",
    "\n",
    "# Use fancy indexing to extract the elements at the corners of the array\n",
    "# corners1 = array22[0,0]\n",
    "# corners2 = array22[0,-1]\n",
    "# corners3 = array22[-1,0]\n",
    "# corners4 = array22[-1,-1]\n",
    "corner = array22[[ 0, 0, -1, -1],[0, -1, 0, -1]]\n",
    "\n",
    "print(f\"corners:\\n {corner}\")\n"
   ]
  },
  {
   "cell_type": "markdown",
   "id": "2c57e874",
   "metadata": {},
   "source": [
    "2. Create a NumPy array of shape (4, 4) filled with random integers. Use boolean indexing to set all elements greater than 10 to 10."
   ]
  },
  {
   "cell_type": "code",
   "execution_count": 110,
   "id": "38f5eabc",
   "metadata": {},
   "outputs": [
    {
     "name": "stdout",
     "output_type": "stream",
     "text": [
      "Original array: \n",
      " [[19 18 18 19]\n",
      " [19  3 19  8]\n",
      " [ 7  8 18  2]\n",
      " [10 19  1  3]]\n",
      "Modified array:\n",
      " [[10 10 10 10]\n",
      " [10  3 10  8]\n",
      " [ 7  8 10  2]\n",
      " [10 10  1  3]]\n"
     ]
    }
   ],
   "source": [
    "array23 = np.random.randint(1,20, size= (4,4))\n",
    "print(f\"Original array: \\n {array23}\")\n",
    "\n",
    "# Use boolean indexing to set all elements greater than 10 to 10\n",
    "array23[array23>10]=10\n",
    "print(f\"Modified array:\\n {array23}\")\n",
    "\n"
   ]
  },
  {
   "cell_type": "markdown",
   "id": "ea3e33b3",
   "metadata": {},
   "source": [
    "### Assignment 9: Structured Arrays\n",
    "\n",
    "1. Create a structured array with fields 'name' (string), 'age' (integer), and 'weight' (float). Add some data and sort the array by age."
   ]
  },
  {
   "cell_type": "code",
   "execution_count": 123,
   "id": "522721b7",
   "metadata": {},
   "outputs": [
    {
     "name": "stdout",
     "output_type": "stream",
     "text": [
      "Original array: \n",
      " [('rhs2', 25, 30.5) ('sio', 40, 30.2) ('rhs6', 30, 50.3)]\n",
      "Sorted array by age:\n",
      " [('rhs2', 25, 30.5) ('rhs6', 30, 50.3) ('sio', 40, 30.2)]\n"
     ]
    }
   ],
   "source": [
    "# Create a structured array with fields 'name', 'age', and 'weight'\n",
    "data_type = [('name', 'U10'),('age','i4'),('weight','f4')]\n",
    "data = np.array([('rhs2', 25, 30.5),('sio', 40, 30.2),('rhs6', 30, 50.3)], dtype = data_type)\n",
    "print(f\"Original array: \\n {data}\")\n",
    "\n",
    "#sort the array by age\n",
    "sorted_data = np.sort(data, order='age')\n",
    "print(f\"Sorted array by age:\\n {sorted_data}\")"
   ]
  },
  {
   "cell_type": "markdown",
   "id": "95c9b407",
   "metadata": {},
   "source": [
    "2. Create a structured array with fields 'x' and 'y' (both integers). Add some data and compute the Euclidean distance between each pair of points."
   ]
  },
  {
   "cell_type": "code",
   "execution_count": 130,
   "id": "550834cc",
   "metadata": {},
   "outputs": [
    {
     "name": "stdout",
     "output_type": "stream",
     "text": [
      "Original array:\n",
      " [(1, 2) (3, 4) (5, 6)]\n",
      "educlidean value:\n",
      " [[0.         2.82842712 5.65685425]\n",
      " [2.82842712 0.         2.82842712]\n",
      " [5.65685425 2.82842712 0.        ]]\n"
     ]
    }
   ],
   "source": [
    "data_type = [('x','i4'), ('y', 'i4')]\n",
    "data1 = np.array([(1,2), (3,4), (5,6)], dtype = data_type)\n",
    "print(f\"Original array:\\n {data1}\")\n",
    "\n",
    "# Compute the Euclidean distance between each pair of points\n",
    "# distance = np.sqrt((data1['x'][:, np.newaxis]-data1['x'])**2 + (data1['y'][:, np.newaxis] - data1['y'])**2)\n",
    "distance = np.sqrt((data1['x'][:,np.newaxis]-data1['x'])**2 + (data1['y'][:,np.newaxis]-data1['y'])**2)\n",
    "print(f\"educlidean value:\\n {distance}\")"
   ]
  },
  {
   "cell_type": "markdown",
   "id": "69afc22a",
   "metadata": {},
   "source": [
    "### Assignment 10: Masked Arrays\n",
    "\n",
    "1. Create a masked array of shape (4, 4) with random integers and mask the elements greater than 10. Compute the sum of the unmasked elements."
   ]
  },
  {
   "cell_type": "code",
   "execution_count": 134,
   "id": "9ef6779b",
   "metadata": {},
   "outputs": [
    {
     "name": "stdout",
     "output_type": "stream",
     "text": [
      "Original Array:\n",
      " [[ 9  5 15 14]\n",
      " [19  4 18 16]\n",
      " [14 19 14 11]\n",
      " [14  4 12  9]]\n",
      "Masked Array:\n",
      " [[9 5 -- --]\n",
      " [-- 4 -- --]\n",
      " [-- -- -- --]\n",
      " [-- 4 -- 9]]\n",
      "Sum of the masked array: \n",
      " 31\n",
      "sum of the masked array:\n",
      " 31\n"
     ]
    }
   ],
   "source": [
    "import numpy.ma as ma\n",
    "# Create a masked array of shape (4, 4) with random integers\n",
    "array25=  np.random.randint(1,20, size = (4,4))\n",
    "masked_array = ma.masked_greater(array25,10)\n",
    "print(f\"Original Array:\\n {array25}\")\n",
    "print(f\"Masked Array:\\n {masked_array}\")\n",
    "\n",
    "#compute the sum od the masked element\n",
    "sum_masked_array = np.sum(masked_array)\n",
    "sum_m= masked_array.sum()\n",
    "\n",
    "print(f\"Sum of the masked array: \\n {sum_masked_array}\")\n",
    "print(f\"sum of the masked array:\\n {sum_m}\")\n",
    "\n"
   ]
  },
  {
   "cell_type": "markdown",
   "id": "7f5b5b8b",
   "metadata": {},
   "source": [
    "2. Create a masked array of shape (3, 3) with random integers and mask the diagonal elements. Replace the masked elements with the mean of the unmasked elements."
   ]
  },
  {
   "cell_type": "code",
   "execution_count": 137,
   "id": "42cb4526",
   "metadata": {},
   "outputs": [
    {
     "name": "stdout",
     "output_type": "stream",
     "text": [
      "Original array: \n",
      " [[13 14  5]\n",
      " [ 5 10 14]\n",
      " [16  9 19]]\n",
      "Masked array: \n",
      " [[-- 14 5]\n",
      " [5 -- 14]\n",
      " [16 9 --]]\n",
      "Modified masked array: \n",
      " [[10 14  5]\n",
      " [ 5 10 14]\n",
      " [16  9 10]]\n"
     ]
    }
   ],
   "source": [
    "# Create a masked array of shape (3, 3) with random integers\n",
    "import numpy.ma as ma\n",
    "array27= np.random.randint(1,21, size = (3,3))\n",
    "masked_array1= ma.masked_array(array27, mask= np.eye(3, dtype = bool))\n",
    "print(f\"Original array: \\n {array27}\")\n",
    "print(f\"Masked array: \\n {masked_array1}\")\n",
    "\n",
    "# Replace the masked elements with the mean of the unmasked elements\n",
    "mean_unmasked = masked_array1.mean()\n",
    "masked_array2= masked_array1.filled(mean_unmasked)\n",
    "print(f\"Modified masked array: \\n {masked_array2}\")"
   ]
  }
 ],
 "metadata": {
  "kernelspec": {
   "display_name": "Python 3",
   "language": "python",
   "name": "python3"
  },
  "language_info": {
   "codemirror_mode": {
    "name": "ipython",
    "version": 3
   },
   "file_extension": ".py",
   "mimetype": "text/x-python",
   "name": "python",
   "nbconvert_exporter": "python",
   "pygments_lexer": "ipython3",
   "version": "3.12.0"
  }
 },
 "nbformat": 4,
 "nbformat_minor": 5
}
