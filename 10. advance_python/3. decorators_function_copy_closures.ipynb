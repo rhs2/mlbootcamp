{
 "cells": [
  {
   "cell_type": "markdown",
   "id": "cd07a5a5",
   "metadata": {},
   "source": [
    "#### Decorators\n",
    "Decorators are a powerful and flexible feature in Python that allows you to modify the behavior of a function or class method. They are commonly used to add functionality to functions or methods without modifying their actual code. This lesson covers the basics of decorators, including how to create and use them."
   ]
  },
  {
   "cell_type": "code",
   "execution_count": null,
   "id": "1394b4d0",
   "metadata": {},
   "outputs": [],
   "source": [
    "#function copy\n",
    "#closures\n",
    "#decorators\n"
   ]
  },
  {
   "cell_type": "code",
   "execution_count": 9,
   "id": "ace14335",
   "metadata": {},
   "outputs": [],
   "source": [
    "#function copy\n",
    "#copy one function to another functions\n",
    "def welcome():\n",
    "    return \"Welcome to the advance python course\""
   ]
  },
  {
   "cell_type": "code",
   "execution_count": 13,
   "id": "5a77d846",
   "metadata": {},
   "outputs": [
    {
     "name": "stdout",
     "output_type": "stream",
     "text": [
      "Welcome to the advance python course\n"
     ]
    }
   ],
   "source": [
    "wel = welcome\n",
    "print(wel())\n",
    "\n",
    "del welcome"
   ]
  },
  {
   "cell_type": "code",
   "execution_count": 15,
   "id": "338bf7bd",
   "metadata": {},
   "outputs": [
    {
     "data": {
      "text/plain": [
       "'Welcome to the advance python course'"
      ]
     },
     "execution_count": 15,
     "metadata": {},
     "output_type": "execute_result"
    }
   ],
   "source": [
    "wel()"
   ]
  },
  {
   "cell_type": "code",
   "execution_count": 16,
   "id": "0cf95690",
   "metadata": {},
   "outputs": [],
   "source": [
    "#closures functions\n",
    "#a function inside another functions\n",
    "def main_welcome(msg):\n",
    "    def sub_welcome_function():\n",
    "        print(\"welcome to the advance python course\")\n",
    "        print(msg)\n",
    "        print(\"please learn these concept properly\")\n",
    "    return sub_welcome_function()"
   ]
  },
  {
   "cell_type": "code",
   "execution_count": 17,
   "id": "cf27dbab",
   "metadata": {},
   "outputs": [
    {
     "name": "stdout",
     "output_type": "stream",
     "text": [
      "welcome to the advance python course\n",
      "Welcome Everyone\n",
      "please learn these concept properly\n"
     ]
    }
   ],
   "source": [
    "main_welcome('Welcome Everyone')"
   ]
  },
  {
   "cell_type": "code",
   "execution_count": 19,
   "id": "e31c44c7",
   "metadata": {},
   "outputs": [],
   "source": [
    "#closures functions\n",
    "#a function takes parameter another functions\n",
    "def main_welcome(func):\n",
    "    def sub_welcome_function():\n",
    "        print(\"welcome to the advance python course\")\n",
    "        func(\"Welcome to my paradise\")\n",
    "        print(\"please learn these concept properly\")\n",
    "    return sub_welcome_function()"
   ]
  },
  {
   "cell_type": "code",
   "execution_count": 20,
   "id": "01bcef0a",
   "metadata": {},
   "outputs": [
    {
     "name": "stdout",
     "output_type": "stream",
     "text": [
      "welcome to the advance python course\n",
      "Welcome to my paradise\n",
      "please learn these concept properly\n"
     ]
    }
   ],
   "source": [
    "main_welcome(print)"
   ]
  },
  {
   "cell_type": "code",
   "execution_count": 22,
   "id": "4b3a4c6e",
   "metadata": {},
   "outputs": [],
   "source": [
    "def main_welcome(func, list1):\n",
    "    def sub_welcome_method():\n",
    "        print(\"welcome to the advance python course\")\n",
    "        print(func(list1))\n",
    "        print('please learn these concept properly')\n",
    "    return sub_welcome_method()\n"
   ]
  },
  {
   "cell_type": "code",
   "execution_count": 23,
   "id": "7ba00261",
   "metadata": {},
   "outputs": [
    {
     "name": "stdout",
     "output_type": "stream",
     "text": [
      "welcome to the advance python course\n",
      "6\n",
      "please learn these concept properly\n"
     ]
    }
   ],
   "source": [
    "main_welcome(len,[1,2,3,4,5,6])"
   ]
  },
  {
   "cell_type": "code",
   "execution_count": 26,
   "id": "89a2c218",
   "metadata": {},
   "outputs": [],
   "source": [
    "#decorators\n",
    "def main_welcome(func):\n",
    "    def sub_welcome_method():\n",
    "        print('welcome to the advance python course')\n",
    "        func()\n",
    "        print('please learn these concepts properly')\n",
    "    return sub_welcome_method()"
   ]
  },
  {
   "cell_type": "code",
   "execution_count": 27,
   "id": "82684186",
   "metadata": {},
   "outputs": [
    {
     "name": "stdout",
     "output_type": "stream",
     "text": [
      "this is an advance python course\n"
     ]
    }
   ],
   "source": [
    "def course_intro():\n",
    "    print(\"this is an advance python course\")\n",
    "course_intro()"
   ]
  },
  {
   "cell_type": "code",
   "execution_count": 28,
   "id": "50121cff",
   "metadata": {},
   "outputs": [
    {
     "name": "stdout",
     "output_type": "stream",
     "text": [
      "welcome to the advance python course\n",
      "this is an advance python course\n",
      "please learn these concepts properly\n"
     ]
    }
   ],
   "source": [
    "main_welcome(course_intro)"
   ]
  },
  {
   "cell_type": "code",
   "execution_count": 31,
   "id": "ffe5da59",
   "metadata": {},
   "outputs": [
    {
     "name": "stdout",
     "output_type": "stream",
     "text": [
      "welcome to the advance python course\n",
      "this is an advance python course\n",
      "please learn these concepts properly\n"
     ]
    }
   ],
   "source": [
    "@main_welcome\n",
    "def course_intro():\n",
    "    print(\"this is an advance python course\")"
   ]
  },
  {
   "cell_type": "code",
   "execution_count": 32,
   "id": "e4c6be33",
   "metadata": {},
   "outputs": [],
   "source": [
    "## Decorator\n",
    "\n",
    "def my_decorator(func):\n",
    "    def wrapper():\n",
    "        print(\"Something is happening before the function is called.\")\n",
    "        func()\n",
    "        print(\"Something is happening after the function is called.\")\n",
    "    return wrapper"
   ]
  },
  {
   "cell_type": "code",
   "execution_count": 33,
   "id": "0944cb91",
   "metadata": {},
   "outputs": [],
   "source": [
    "@my_decorator\n",
    "def say_hello():\n",
    "    print(\"Hello!\")"
   ]
  },
  {
   "cell_type": "code",
   "execution_count": 34,
   "id": "9a3dc79f",
   "metadata": {},
   "outputs": [
    {
     "name": "stdout",
     "output_type": "stream",
     "text": [
      "Something is happening before the function is called.\n",
      "Hello!\n",
      "Something is happening after the function is called.\n"
     ]
    }
   ],
   "source": [
    "say_hello()"
   ]
  },
  {
   "cell_type": "code",
   "execution_count": 35,
   "id": "4b0d9ce6",
   "metadata": {},
   "outputs": [],
   "source": [
    "## Decorators WWith arguments\n",
    "def repeat(n):\n",
    "    def decorator(func):\n",
    "        def wrapper(*args, **kwargs):\n",
    "            for _ in range(n):\n",
    "                func(*args, **kwargs)\n",
    "        return wrapper\n",
    "    return decorator"
   ]
  },
  {
   "cell_type": "code",
   "execution_count": 36,
   "id": "15c0742b",
   "metadata": {},
   "outputs": [],
   "source": [
    "@repeat(3)\n",
    "def say_hello():\n",
    "    print(\"Hello\")"
   ]
  },
  {
   "cell_type": "code",
   "execution_count": 37,
   "id": "9786789b",
   "metadata": {},
   "outputs": [
    {
     "name": "stdout",
     "output_type": "stream",
     "text": [
      "Hello\n",
      "Hello\n",
      "Hello\n"
     ]
    }
   ],
   "source": [
    "say_hello()"
   ]
  },
  {
   "cell_type": "markdown",
   "id": "2911fda6",
   "metadata": {},
   "source": [
    "#### Conclusion\n",
    "Decorators are a powerful tool in Python for extending and modifying the behavior of functions and methods. They provide a clean and readable way to add functionality such as logging, timing, access control, and more without changing the original code. Understanding and using decorators effectively can significantly enhance your Python programming skills."
   ]
  }
 ],
 "metadata": {
  "kernelspec": {
   "display_name": "Python 3",
   "language": "python",
   "name": "python3"
  },
  "language_info": {
   "codemirror_mode": {
    "name": "ipython",
    "version": 3
   },
   "file_extension": ".py",
   "mimetype": "text/x-python",
   "name": "python",
   "nbconvert_exporter": "python",
   "pygments_lexer": "ipython3",
   "version": "3.12.0"
  }
 },
 "nbformat": 4,
 "nbformat_minor": 5
}
