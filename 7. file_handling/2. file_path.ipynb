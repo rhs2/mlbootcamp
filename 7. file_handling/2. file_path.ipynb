{
 "cells": [
  {
   "cell_type": "markdown",
   "id": "427d45c3",
   "metadata": {},
   "source": [
    "#### Working With File Paths\n",
    "When working with files in Python, handling file paths correctly is crucial to ensure your code works across different operating systems and environments. Python provides several modules and functions for working with file paths effectively."
   ]
  },
  {
   "cell_type": "code",
   "execution_count": 2,
   "id": "9761e47b",
   "metadata": {},
   "outputs": [
    {
     "name": "stdout",
     "output_type": "stream",
     "text": [
      "/Users/sium/Desktop/github/mlbootcamp/7. file_handling\n"
     ]
    }
   ],
   "source": [
    "##using the os module\n",
    "import os\n",
    "cwd = os.getcwd()\n",
    "print(cwd)\n"
   ]
  },
  {
   "cell_type": "code",
   "execution_count": 3,
   "id": "45ef441b",
   "metadata": {},
   "outputs": [
    {
     "name": "stdout",
     "output_type": "stream",
     "text": [
      "Directory package is created\n"
     ]
    }
   ],
   "source": [
    "#create a new directory\n",
    "n_d = 'package'\n",
    "os.mkdir(n_d)\n",
    "print(f'Directory {n_d} is created')"
   ]
  },
  {
   "cell_type": "code",
   "execution_count": 4,
   "id": "5697acb9",
   "metadata": {},
   "outputs": [
    {
     "name": "stdout",
     "output_type": "stream",
     "text": [
      "['destination.txt', 'example2.txt', '1. file_operation.ipynb', 'example.bin', 'example.txt', '2. file_path.ipynb', 'package']\n"
     ]
    }
   ],
   "source": [
    "#listing files and directories\n",
    "items = os.listdir('.')\n",
    "print(items)"
   ]
  },
  {
   "cell_type": "code",
   "execution_count": 6,
   "id": "320adaed",
   "metadata": {},
   "outputs": [
    {
     "name": "stdout",
     "output_type": "stream",
     "text": [
      "folder/file.txt\n"
     ]
    }
   ],
   "source": [
    "#joining paths\n",
    "dir_name = 'folder'\n",
    "file_name = 'file.txt'\n",
    "full_path = os.path.join(dir_name, file_name)\n",
    "print(full_path)"
   ]
  },
  {
   "cell_type": "code",
   "execution_count": 7,
   "id": "b35a7b35",
   "metadata": {},
   "outputs": [
    {
     "name": "stdout",
     "output_type": "stream",
     "text": [
      "the file path example.txt exists\n"
     ]
    }
   ],
   "source": [
    "#check if a path is exists of not\n",
    "path = 'example.txt'\n",
    "if os.path.exists(path):\n",
    "    print(f'the file path {path} exists')\n",
    "else:\n",
    "    print(f'the file path {path} does not exists')"
   ]
  },
  {
   "cell_type": "code",
   "execution_count": 8,
   "id": "96e4b942",
   "metadata": {},
   "outputs": [
    {
     "name": "stdout",
     "output_type": "stream",
     "text": [
      "the path example.txt is a file\n"
     ]
    }
   ],
   "source": [
    "#Checking if a Path is a File or Directory\n",
    "import os\n",
    "path = 'example.txt'\n",
    "if os.path.isfile(path):\n",
    "    print(f'the path {path} is a file')\n",
    "elif os.path.isdir(path):\n",
    "    print(f'the path {path} is a directory')\n",
    "else:\n",
    "    print(f'the path {path} neither a directory nor a file')\n"
   ]
  },
  {
   "cell_type": "code",
   "execution_count": 9,
   "id": "c01cb826",
   "metadata": {},
   "outputs": [
    {
     "name": "stdout",
     "output_type": "stream",
     "text": [
      "/Users/sium/Desktop/github/mlbootcamp/7. file_handling/example.txt\n"
     ]
    }
   ],
   "source": [
    "#getting the absulate path\n",
    "path = 'example.txt'\n",
    "abs_path = os.path.abspath(path)\n",
    "print(abs_path)"
   ]
  }
 ],
 "metadata": {
  "kernelspec": {
   "display_name": "Python 3",
   "language": "python",
   "name": "python3"
  },
  "language_info": {
   "codemirror_mode": {
    "name": "ipython",
    "version": 3
   },
   "file_extension": ".py",
   "mimetype": "text/x-python",
   "name": "python",
   "nbconvert_exporter": "python",
   "pygments_lexer": "ipython3",
   "version": "3.12.0"
  }
 },
 "nbformat": 4,
 "nbformat_minor": 5
}
