{
 "cells": [
  {
   "cell_type": "markdown",
   "id": "f4756314",
   "metadata": {},
   "source": [
    "# Module 4: Data Structures Assignments\n",
    "## Lesson 4: Tuples\n",
    "### Assignment 1: Creating and Accessing Tuples\n",
    "\n",
    "Create a tuple with the first 10 positive integers. Print the tuple."
   ]
  },
  {
   "cell_type": "code",
   "execution_count": 1,
   "id": "e3c7b7d6",
   "metadata": {},
   "outputs": [
    {
     "name": "stdout",
     "output_type": "stream",
     "text": [
      "(1, 2, 3, 4, 5, 6, 7, 8, 9, 10, 11, 12, 13, 14, 15, 16, 17, 18, 19)\n"
     ]
    }
   ],
   "source": [
    "tuple1 = tuple(range(1,20))\n",
    "print(tuple1)"
   ]
  },
  {
   "cell_type": "markdown",
   "id": "72ae09f6",
   "metadata": {},
   "source": [
    "### Assignment 2: Accessing Tuple Elements\n",
    "\n",
    "Print the first, middle, and last elements of the tuple created in Assignment 1."
   ]
  },
  {
   "cell_type": "code",
   "execution_count": 4,
   "id": "633e53bf",
   "metadata": {},
   "outputs": [
    {
     "name": "stdout",
     "output_type": "stream",
     "text": [
      "first element: 1\n",
      "middle element: 10\n",
      "last element: 19\n"
     ]
    }
   ],
   "source": [
    "print(f\"first element: {tuple1[0]}\")\n",
    "print(f\"middle element: {tuple1[len(tuple1)//2]}\")\n",
    "print(f\"last element: {tuple1[-1]}\")"
   ]
  },
  {
   "cell_type": "markdown",
   "id": "efffe442",
   "metadata": {},
   "source": [
    "### Assignment 3: Tuple Slicing\n",
    "\n",
    "Print the first three elements, the last three elements, and the elements from index 2 to 5 of the tuple created in Assignment 1."
   ]
  },
  {
   "cell_type": "code",
   "execution_count": 9,
   "id": "1cbe7123",
   "metadata": {},
   "outputs": [
    {
     "name": "stdout",
     "output_type": "stream",
     "text": [
      "first three elements: (1, 2, 3)\n",
      "last three elements (19, 18, 17)\n",
      "last three elements (17, 18, 19)\n",
      "elements from index 2 to 5: (3, 4, 5, 6)\n"
     ]
    }
   ],
   "source": [
    "print(f\"first three elements: {tuple1[0:3]}\")\n",
    "print(f\"last three elements {tuple1[-1:-4:-1]}\")\n",
    "print(f\"last three elements {tuple1[-3:]}\")\n",
    "print(f\"elements from index 2 to 5: {tuple1[2:6]}\")"
   ]
  },
  {
   "cell_type": "markdown",
   "id": "c286be76",
   "metadata": {},
   "source": [
    "### Assignment 4: Nested Tuples\n",
    "\n",
    "Create a nested tuple representing a 3x3 matrix and print the matrix. Access and print the element at the second row and third column."
   ]
  },
  {
   "cell_type": "code",
   "execution_count": 12,
   "id": "0079cfa0",
   "metadata": {},
   "outputs": [
    {
     "name": "stdout",
     "output_type": "stream",
     "text": [
      "Matrix\n",
      "(1, 2, 3)\n",
      "(4, 5, 6)\n",
      "(7, 8, 9)\n",
      "element at second row third column: 6\n"
     ]
    }
   ],
   "source": [
    "matrix = (\n",
    "    (1,2,3),\n",
    "    (4,5,6),\n",
    "    (7,8,9)\n",
    "\n",
    ")\n",
    "print(\"Matrix\")\n",
    "for row in matrix:\n",
    "    print(row)\n",
    "print(f\"element at second row third column: {matrix[1][2]}\")\n"
   ]
  },
  {
   "cell_type": "markdown",
   "id": "359e42d8",
   "metadata": {},
   "source": [
    "### Assignment 5: Tuple Concatenation\n",
    "\n",
    "Concatenate two tuples: (1, 2, 3) and (4, 5, 6). Print the resulting tuple."
   ]
  },
  {
   "cell_type": "code",
   "execution_count": 14,
   "id": "7c62193b",
   "metadata": {},
   "outputs": [
    {
     "name": "stdout",
     "output_type": "stream",
     "text": [
      "(1, 2, 3, 4, 5, 6)\n"
     ]
    }
   ],
   "source": [
    "tuple2 = (1,2,3)\n",
    "tuple3 = (4,5,6)\n",
    "concat = tuple2 + tuple3\n",
    "print(concat)\n",
    "# print(tuple2+tuple3)\n"
   ]
  },
  {
   "cell_type": "markdown",
   "id": "0fc3e5a8",
   "metadata": {},
   "source": [
    "### Assignment 6: Tuple Methods\n",
    "\n",
    "Create a tuple with duplicate elements and count the occurrences of an element. Find the index of the first occurrence of an element in the tuple."
   ]
  },
  {
   "cell_type": "code",
   "execution_count": 18,
   "id": "87a7fbd2",
   "metadata": {},
   "outputs": [
    {
     "name": "stdout",
     "output_type": "stream",
     "text": [
      "Occurrence of 4: 3\n",
      "index of first occurrence of 2: 1\n"
     ]
    }
   ],
   "source": [
    "tuple4 = (1,2,2,3,4,4,4,5)\n",
    "print(f\"Occurrence of 4: {tuple4.count(4)}\")\n",
    "print(f\"index of first occurrence of 2: {tuple4.index(2)}\")"
   ]
  },
  {
   "cell_type": "markdown",
   "id": "a0fe9f3b",
   "metadata": {},
   "source": [
    "### Assignment 7: Unpacking Tuples\n",
    "\n",
    "Create a tuple with 5 elements and unpack it into 5 variables. Print the variables."
   ]
  },
  {
   "cell_type": "code",
   "execution_count": 19,
   "id": "1704e57f",
   "metadata": {},
   "outputs": [
    {
     "name": "stdout",
     "output_type": "stream",
     "text": [
      "2 3 4 5 6\n"
     ]
    }
   ],
   "source": [
    "tuple5 = (2,3,4,5,6)\n",
    "a,b,c,d,e = tuple5\n",
    "print(a,b,c,d,e)"
   ]
  },
  {
   "cell_type": "markdown",
   "id": "d6745605",
   "metadata": {},
   "source": [
    "### Assignment 8: Tuple Conversion\n",
    "\n",
    "Convert a list of the first 5 positive integers to a tuple. Print the tuple."
   ]
  },
  {
   "cell_type": "code",
   "execution_count": 20,
   "id": "34010253",
   "metadata": {},
   "outputs": [
    {
     "name": "stdout",
     "output_type": "stream",
     "text": [
      "(1, 2, 3, 4, 5)\n"
     ]
    }
   ],
   "source": [
    "list2 =[1,2,3,4,5]\n",
    "tuple6= tuple(list2)\n",
    "print(tuple6)\n"
   ]
  },
  {
   "cell_type": "markdown",
   "id": "2af01b55",
   "metadata": {},
   "source": [
    "### Assignment 9: Tuple of Tuples\n",
    "\n",
    "Create a tuple containing 3 tuples, each with 3 elements. Print the tuple of tuples."
   ]
  },
  {
   "cell_type": "code",
   "execution_count": 25,
   "id": "8bdc109d",
   "metadata": {},
   "outputs": [
    {
     "name": "stdout",
     "output_type": "stream",
     "text": [
      "((1, 2, 3), (4, 5, 6), (7, 8, 9))\n",
      "tuple in a matrix form:\n",
      "(1, 2, 3)\n",
      "(4, 5, 6)\n",
      "(7, 8, 9)\n"
     ]
    }
   ],
   "source": [
    "tuple7 = (\n",
    "    (1,2,3),\n",
    "    (4,5,6), \n",
    "    (7,8,9)\n",
    ")\n",
    "print(tuple7)\n",
    "print(f\"tuple in a matrix form:\")\n",
    "for r in tuple7:\n",
    "    print(r)"
   ]
  },
  {
   "cell_type": "markdown",
   "id": "fab98a22",
   "metadata": {},
   "source": [
    "### Assignment 10: Tuple and List\n",
    "\n",
    "Create a tuple with the first 5 positive integers. Convert it to a list, append the number 6, and convert it back to a tuple. Print the resulting tuple."
   ]
  },
  {
   "cell_type": "code",
   "execution_count": 28,
   "id": "06e937d6",
   "metadata": {},
   "outputs": [
    {
     "name": "stdout",
     "output_type": "stream",
     "text": [
      "(1, 2, 3, 4, 5, 6)\n"
     ]
    }
   ],
   "source": [
    "tuple8 = (1,2,3,4,5)\n",
    "list1 = list(tuple8)\n",
    "list1.append(6)\n",
    "tuple8 = tuple(list1)\n",
    "print(tuple8)"
   ]
  },
  {
   "cell_type": "markdown",
   "id": "5b9c39d6",
   "metadata": {},
   "source": [
    "### Assignment 11: Tuple and String\n",
    "\n",
    "Create a tuple with the characters of a string. Join the tuple elements into a single string. Print the string."
   ]
  },
  {
   "cell_type": "code",
   "execution_count": 33,
   "id": "6052b3ae",
   "metadata": {},
   "outputs": [
    {
     "name": "stdout",
     "output_type": "stream",
     "text": [
      "rhs2\n"
     ]
    }
   ],
   "source": [
    "string = 'rhs2'\n",
    "tuple9 = tuple(string)\n",
    "joined_strings = \"\".join(tuple9)\n",
    "print(joined_strings)"
   ]
  },
  {
   "cell_type": "markdown",
   "id": "ed9ee13e",
   "metadata": {},
   "source": [
    "### Assignment 12: Tuple and Dictionary\n",
    "\n",
    "Create a dictionary with tuple keys and integer values. Print the dictionary."
   ]
  },
  {
   "cell_type": "code",
   "execution_count": 34,
   "id": "4c3ca418",
   "metadata": {},
   "outputs": [
    {
     "name": "stdout",
     "output_type": "stream",
     "text": [
      "{(1, 2): 3, (4, 5): 6, (7, 8): 9}\n"
     ]
    }
   ],
   "source": [
    "tuple_dict = {\n",
    "    (1,2): 3,\n",
    "    (4,5): 6,\n",
    "    (7,8): 9\n",
    "}\n",
    "print(tuple_dict)\n"
   ]
  },
  {
   "cell_type": "markdown",
   "id": "fbe703d7",
   "metadata": {},
   "source": [
    "### Assignment 13: Nested Tuple Iteration\n",
    "\n",
    "Create a nested tuple and iterate over the elements, printing each element."
   ]
  },
  {
   "cell_type": "code",
   "execution_count": 37,
   "id": "e9cb5056",
   "metadata": {},
   "outputs": [
    {
     "name": "stdout",
     "output_type": "stream",
     "text": [
      "1\n",
      "2\n",
      "3\n",
      "4\n",
      "5\n",
      "6\n",
      "7\n",
      "8\n",
      "9\n"
     ]
    }
   ],
   "source": [
    "nested_tuple = (\n",
    "    (1,2,3),\n",
    "    (4,5,6),\n",
    "    (7,8,9)\n",
    ")\n",
    "for r in nested_tuple:\n",
    "    for e in r:\n",
    "        print( e)"
   ]
  },
  {
   "cell_type": "markdown",
   "id": "ccf0dc02",
   "metadata": {},
   "source": [
    "### Assignment 14: Tuple and Set\n",
    "\n",
    "Create a tuple with duplicate elements. Convert it to a set to remove duplicates and print the resulting set."
   ]
  },
  {
   "cell_type": "code",
   "execution_count": 38,
   "id": "d5c58fbb",
   "metadata": {},
   "outputs": [
    {
     "name": "stdout",
     "output_type": "stream",
     "text": [
      "{1, 2, 3, 4, 5, 6, 7}\n"
     ]
    }
   ],
   "source": [
    "tuple10 = (1,2,3,3,3,5,5,4,4,6,7,7)\n",
    "set1 = set(tuple10)\n",
    "print(set1)"
   ]
  },
  {
   "cell_type": "markdown",
   "id": "8abc393e",
   "metadata": {},
   "source": [
    "### Assignment 15: Tuple Functions\n",
    "\n",
    "Write functions that take a tuple and return the minimum, maximum, and sum of the elements. Print the results for a sample tuple."
   ]
  },
  {
   "cell_type": "code",
   "execution_count": 40,
   "id": "4b9b1b85",
   "metadata": {},
   "outputs": [
    {
     "name": "stdout",
     "output_type": "stream",
     "text": [
      "minimum: 1\n",
      "maximum: 5\n",
      "sum of a tuple: 15\n"
     ]
    }
   ],
   "source": [
    "def min_tuple(tup):\n",
    "    return min(tup)\n",
    "def max_tuple(tup):\n",
    "    return max(tup)\n",
    "def sum_tuple(tup):\n",
    "    return sum(tup)\n",
    "tuple11 = (1,2,3,4,5)\n",
    "print(f\"minimum: {min_tuple(tuple11)}\")\n",
    "print(f\"maximum: {max_tuple(tuple11)}\")\n",
    "print(f\"sum of a tuple: {sum_tuple(tuple11)}\")"
   ]
  }
 ],
 "metadata": {
  "kernelspec": {
   "display_name": "Python 3",
   "language": "python",
   "name": "python3"
  },
  "language_info": {
   "codemirror_mode": {
    "name": "ipython",
    "version": 3
   },
   "file_extension": ".py",
   "mimetype": "text/x-python",
   "name": "python",
   "nbconvert_exporter": "python",
   "pygments_lexer": "ipython3",
   "version": "3.12.0"
  }
 },
 "nbformat": 4,
 "nbformat_minor": 5
}
