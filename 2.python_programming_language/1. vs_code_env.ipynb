{
 "cells": [
  {
   "cell_type": "markdown",
   "id": "68f03d27",
   "metadata": {},
   "source": [
    "#### 1. as usual for every project we will start with the env creation\n",
    "-----> conda create -p venv(we can give any name for the env) python==3.12(any version we would like to use) "
   ]
  },
  {
   "cell_type": "markdown",
   "id": "c2f74571",
   "metadata": {},
   "source": [
    "#### 2. and then we will install the requires libraries through pip from requirements.txt"
   ]
  }
 ],
 "metadata": {
  "language_info": {
   "name": "python"
  }
 },
 "nbformat": 4,
 "nbformat_minor": 5
}
