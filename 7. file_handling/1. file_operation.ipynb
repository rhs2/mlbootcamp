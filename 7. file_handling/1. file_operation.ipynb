{
 "cells": [
  {
   "cell_type": "markdown",
   "id": "89becd8e",
   "metadata": {},
   "source": [
    "#### File Operation- Read And Write Files\n",
    "\n",
    "File handling is a crucial part of any programming language. Python provides built-in functions and methods to read from and write to files, both text and binary. This lesson will cover the basics of file handling, including reading and writing text files and binary files."
   ]
  },
  {
   "cell_type": "code",
   "execution_count": 1,
   "id": "650f4289",
   "metadata": {},
   "outputs": [
    {
     "name": "stdout",
     "output_type": "stream",
     "text": [
      "Hello, My name is is rhs2\n",
      "how are you doing?\n",
      "welcome to my paradise. \n"
     ]
    }
   ],
   "source": [
    "#read the whole file\n",
    "with open('example.txt', 'r') as file:\n",
    "    content = file.read()\n",
    "    print(content)"
   ]
  },
  {
   "cell_type": "code",
   "execution_count": 1,
   "id": "7a055a4c",
   "metadata": {},
   "outputs": [
    {
     "name": "stdout",
     "output_type": "stream",
     "text": [
      "Hello, My name is is rhs2\n",
      "how are you doing?\n",
      "welcome to my paradise.\n"
     ]
    }
   ],
   "source": [
    "#read a file line by line\n",
    "with open('example.txt', 'r') as file:\n",
    "    for line in file:\n",
    "        print(line.strip()) #strip removes the newline character"
   ]
  },
  {
   "cell_type": "code",
   "execution_count": 5,
   "id": "93fc21a5",
   "metadata": {},
   "outputs": [],
   "source": [
    "#writing a file (overwriting)\n",
    "with open('example2.txt', 'w') as file:\n",
    "    file.write('Hello, welcome to my paradise\\n')\n",
    "    file.write('this is another line\\n')"
   ]
  },
  {
   "cell_type": "code",
   "execution_count": 6,
   "id": "94313921",
   "metadata": {},
   "outputs": [],
   "source": [
    "#write a file without overwriting\n",
    "with open('example2.txt', \"a\") as file:\n",
    "    file.write('append operation taking place!\\n')"
   ]
  },
  {
   "cell_type": "code",
   "execution_count": 8,
   "id": "d953f7c9",
   "metadata": {},
   "outputs": [],
   "source": [
    "#writing a list of lines together to a file\n",
    "lines = ['first line \\n', 'second line \\n', 'third line \\n']\n",
    "with open('example2.txt', 'a') as file:\n",
    "    file.writelines(lines)"
   ]
  },
  {
   "cell_type": "code",
   "execution_count": 9,
   "id": "b1808ea8",
   "metadata": {},
   "outputs": [],
   "source": [
    "#binary files\n",
    "#writing a binary file\n",
    "data = b'\\x00\\x01\\x02\\x03\\x04'\n",
    "with open('example.bin', 'wb') as file:\n",
    "    file.write(data)"
   ]
  },
  {
   "cell_type": "code",
   "execution_count": 10,
   "id": "4896cd40",
   "metadata": {},
   "outputs": [
    {
     "name": "stdout",
     "output_type": "stream",
     "text": [
      "b'\\x00\\x01\\x02\\x03\\x04'\n"
     ]
    }
   ],
   "source": [
    "#reading the binary file\n",
    "with open('example.bin', 'rb') as file:\n",
    "    content = file.read()\n",
    "    print(content)"
   ]
  },
  {
   "cell_type": "code",
   "execution_count": 11,
   "id": "5a8c861d",
   "metadata": {},
   "outputs": [],
   "source": [
    "#read a file from a source file and write it to a destination \n",
    "#copying a text file\n",
    "with open('example.txt', 'r') as source_file:\n",
    "    content = source_file.read()\n",
    "with open('destination.txt', 'w') as destination_file:\n",
    "    destination_file.write(content)"
   ]
  },
  {
   "cell_type": "code",
   "execution_count": 12,
   "id": "7700d4e8",
   "metadata": {},
   "outputs": [
    {
     "name": "stdout",
     "output_type": "stream",
     "text": [
      "lines: 3, words: 14, charater: 69\n"
     ]
    }
   ],
   "source": [
    "#read a text file and count the number of lines, words and characters.\n",
    "#counting lines, words and characters in a text file\n",
    "def count_text_file(file_path):\n",
    "    with open(file_path, 'r') as file:\n",
    "        lines = file.readlines()\n",
    "        line_count = len(lines)\n",
    "        word_count = sum(len(line.split()) for line in lines)\n",
    "        char_count = sum(len(line) for line in lines)\n",
    "    return line_count, word_count, char_count\n",
    "file_path= 'example.txt'\n",
    "lines, words, characters = count_text_file(file_path)\n",
    "print(f'lines: {lines}, words: {words}, charater: {characters}')\n"
   ]
  },
  {
   "cell_type": "markdown",
   "id": "fc4223e5",
   "metadata": {},
   "source": [
    "The w+ mode in Python is used to open a file for both reading and writing. If the file does not exist, it will be created. If the file exists, its content is truncated (i.e., the file is overwritten)."
   ]
  },
  {
   "cell_type": "code",
   "execution_count": 14,
   "id": "31583eee",
   "metadata": {},
   "outputs": [
    {
     "name": "stdout",
     "output_type": "stream",
     "text": [
      "hello to my paradise \n",
      "this is another new line \n",
      "\n"
     ]
    }
   ],
   "source": [
    "##writing and then reading a file\n",
    "with open(\"example2.txt\", 'w+') as file:\n",
    "    file.write('hello to my paradise \\n')\n",
    "    file.write('this is another new line \\n')\n",
    "\n",
    "    ##move the file cursor to the begining\n",
    "    file.seek(0)\n",
    "\n",
    "    #read the content of the file\n",
    "    content = file.read()\n",
    "    print(content)"
   ]
  }
 ],
 "metadata": {
  "kernelspec": {
   "display_name": "Python 3",
   "language": "python",
   "name": "python3"
  },
  "language_info": {
   "codemirror_mode": {
    "name": "ipython",
    "version": 3
   },
   "file_extension": ".py",
   "mimetype": "text/x-python",
   "name": "python",
   "nbconvert_exporter": "python",
   "pygments_lexer": "ipython3",
   "version": "3.12.0"
  }
 },
 "nbformat": 4,
 "nbformat_minor": 5
}
