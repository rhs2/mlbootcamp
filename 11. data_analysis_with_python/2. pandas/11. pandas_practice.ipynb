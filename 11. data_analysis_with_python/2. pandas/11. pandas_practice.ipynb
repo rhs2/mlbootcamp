{
 "cells": [
  {
   "cell_type": "markdown",
   "id": "8f39bf8a",
   "metadata": {},
   "source": [
    "# Module: Pandas Assignments\n",
    "## Lesson: Pandas\n",
    "### Assignment 1: DataFrame Creation and Indexing\n",
    "\n",
    "1. Create a Pandas DataFrame with 4 columns and 6 rows filled with random integers. Set the index to be the first column."
   ]
  },
  {
   "cell_type": "code",
   "execution_count": 14,
   "id": "f1f719f6",
   "metadata": {},
   "outputs": [
    {
     "name": "stdout",
     "output_type": "stream",
     "text": [
      "Original Array:\n",
      " [[10 19 16 27]\n",
      " [15 13 17 20]\n",
      " [29  9 17  5]\n",
      " [24 20 28 20]\n",
      " [12 22  6 20]\n",
      " [16 26  3 22]]\n",
      "Original DataFrame:\n",
      "     A   B   C   D\n",
      "0  10  19  16  27\n",
      "1  15  13  17  20\n",
      "2  29   9  17   5\n",
      "3  24  20  28  20\n",
      "4  12  22   6  20\n",
      "5  16  26   3  22\n",
      "Index With First Column: \n",
      "      B   C   D\n",
      "A             \n",
      "10  19  16  27\n",
      "15  13  17  20\n",
      "29   9  17   5\n",
      "24  20  28  20\n",
      "12  22   6  20\n",
      "16  26   3  22\n"
     ]
    }
   ],
   "source": [
    "import pandas as pd\n",
    "import numpy as np\n",
    "#creating a (6,4) 2D array with random\n",
    "data = np.random.randint(1,30, size = (6,4))\n",
    "print(f\"Original Array:\\n {data}\")\n",
    "df1 = pd.DataFrame(data, columns=['A', 'B', 'C','D'])\n",
    "print(f\"Original DataFrame:\\n {df1}\")\n",
    "df1.set_index('A', inplace= True)\n",
    "print(f'Index With First Column: \\n {df1}')\n"
   ]
  },
  {
   "cell_type": "markdown",
   "id": "a5916125",
   "metadata": {},
   "source": [
    "2. Create a Pandas DataFrame with columns 'A', 'B', 'C' and index 'X', 'Y', 'Z'. Fill the DataFrame with random integers and access the element at row 'Y' and column 'B'."
   ]
  },
  {
   "cell_type": "code",
   "execution_count": 19,
   "id": "eb557898",
   "metadata": {},
   "outputs": [
    {
     "name": "stdout",
     "output_type": "stream",
     "text": [
      "Original DataFrame: \n",
      "     A   B   C\n",
      "X  15   7   7\n",
      "Y  18  13  13\n",
      "Z  12   2  17\n",
      "Element at row 'Y' and column 'B':\n",
      " 13 \n"
     ]
    }
   ],
   "source": [
    "#create a pandas DataFrame with specified columns and index\n",
    "df = pd.DataFrame(np.random.randint(1,20, size = (3,3)), columns=['A','B','C'], index = ['X','Y','Z'])\n",
    "print(f\"Original DataFrame: \\n {df}\")\n",
    "#access the element at row 'Y' and Column 'B'\n",
    "# element = df.loc['Y']['B']\n",
    "element = df.at['Y','B']\n",
    "print(f\"Element at row 'Y' and column 'B':\\n {element} \")"
   ]
  },
  {
   "cell_type": "markdown",
   "id": "2af0ae45",
   "metadata": {},
   "source": [
    "### Assignment 2: DataFrame Operations\n",
    "\n",
    "1. Create a Pandas DataFrame with 3 columns and 5 rows filled with random integers. Add a new column that is the product of the first two columns."
   ]
  },
  {
   "cell_type": "code",
   "execution_count": 20,
   "id": "c41ded77",
   "metadata": {},
   "outputs": [
    {
     "name": "stdout",
     "output_type": "stream",
     "text": [
      "Original DataFrame: \n",
      "     A   B   C\n",
      "0   8   6  17\n",
      "1   1   4   4\n",
      "2  10  10  11\n",
      "3   7   5   5\n",
      "4  11   3  13\n",
      "DataFrame with new columns:\n",
      "     A   B   C    D\n",
      "0   8   6  17   48\n",
      "1   1   4   4    4\n",
      "2  10  10  11  100\n",
      "3   7   5   5   35\n",
      "4  11   3  13   33\n"
     ]
    }
   ],
   "source": [
    "#create a Pandas DataFrame with 3 columns and 5 rows filled with random integers\n",
    "df = pd.DataFrame(np.random.randint(1,20, size = (5,3)), columns=['A','B','C'])\n",
    "print(f\"Original DataFrame: \\n {df}\")\n",
    "#add a new column is the product of the first two columns\n",
    "df['D']= df['A'] * df['B']\n",
    "print(f\"DataFrame with new columns:\\n {df}\")\n"
   ]
  },
  {
   "cell_type": "markdown",
   "id": "e349d5fe",
   "metadata": {},
   "source": [
    "2. Create a Pandas DataFrame with 3 columns and 4 rows filled with random integers. Compute the row-wise and column-wise sum."
   ]
  },
  {
   "cell_type": "code",
   "execution_count": 21,
   "id": "36ce1ca0",
   "metadata": {},
   "outputs": [
    {
     "name": "stdout",
     "output_type": "stream",
     "text": [
      "Original DataFrame: \n",
      "     A   B   C\n",
      "0   4  16   5\n",
      "1  17  15   1\n",
      "2  10  10  19\n",
      "3   4   2   1\n",
      "Row wise sum: \n",
      " 0    25\n",
      "1    33\n",
      "2    39\n",
      "3     7\n",
      "dtype: int64\n",
      "Column wise sum: \n",
      " A    35\n",
      "B    43\n",
      "C    26\n",
      "dtype: int64\n"
     ]
    }
   ],
   "source": [
    "#create a pandas DataFrame with 3 columns and 4 rows\n",
    "df = pd.DataFrame(np.random.randint(1,20, size = (4,3)), columns=['A','B','C'])\n",
    "print(f\"Original DataFrame: \\n {df}\")\n",
    "\n",
    "#compute the row_wise and column wise sum\n",
    "row_sum = df.sum(axis= 1)\n",
    "col_sum = df.sum(axis= 0)\n",
    "\n",
    "print(f\"Row wise sum: \\n {row_sum}\")\n",
    "print(f\"Column wise sum: \\n {col_sum}\")"
   ]
  },
  {
   "cell_type": "markdown",
   "id": "cf461af2",
   "metadata": {},
   "source": [
    "### Assignment 3: Data Cleaning\n",
    "\n",
    "1. Create a Pandas DataFrame with 3 columns and 5 rows filled with random integers. Introduce some NaN values. Fill the NaN values with the mean of the respective columns."
   ]
  },
  {
   "cell_type": "code",
   "execution_count": null,
   "id": "5ffaaf72",
   "metadata": {},
   "outputs": [
    {
     "name": "stdout",
     "output_type": "stream",
     "text": [
      "Original DataFrame: \n",
      "     A   B   C\n",
      "0   3   1   1\n",
      "1  17  18   6\n",
      "2   1   6  15\n",
      "3  19   3   9\n",
      "4  17   1  12\n",
      "DataFrame with NaN values: \n",
      "       A     B     C\n",
      "0   3.0   NaN   1.0\n",
      "1  17.0  18.0   6.0\n",
      "2   1.0   6.0   NaN\n",
      "3  19.0   3.0   9.0\n",
      "4   NaN   1.0  12.0\n",
      "DataFrame with NaN values filled: \n",
      "       A     B     C\n",
      "0   3.0   7.0   1.0\n",
      "1  17.0  18.0   6.0\n",
      "2   1.0   6.0   7.0\n",
      "3  19.0   3.0   9.0\n",
      "4  10.0   1.0  12.0\n"
     ]
    }
   ],
   "source": [
    "#create a pandas DataFrame with 3 cols and 5 rows\n",
    "df = pd.DataFrame(np.random.randint(1,20, size = (5,3)), columns=['A','B','C'])\n",
    "print(f\"Original DataFrame: \\n {df}\")\n",
    "#introduce some NaN values\n",
    "df.iloc[0,1]= np.nan\n",
    "df.iloc[2,2]= np.nan\n",
    "df.iloc[4,0]= np.nan\n",
    "print(f\"DataFrame with NaN values: \\n {df}\")\n",
    "\n",
    "#fill the NaN values with the mean of the respective column\n",
    "df.fillna(df.mean(), inplace=True)\n",
    "print(f\"DataFrame with NaN values filled: \\n {df}\")"
   ]
  },
  {
   "cell_type": "markdown",
   "id": "aa6998d0",
   "metadata": {},
   "source": [
    "2. Create a Pandas DataFrame with 4 columns and 6 rows filled with random integers. Introduce some NaN values. Drop the rows with any NaN values."
   ]
  },
  {
   "cell_type": "code",
   "execution_count": 37,
   "id": "63a4ba56",
   "metadata": {},
   "outputs": [
    {
     "name": "stdout",
     "output_type": "stream",
     "text": [
      "Original DataFrame:\n",
      "     A   B   C   D\n",
      "0  47  39  13  41\n",
      "1  12  22  42  41\n",
      "2  35  27  34   9\n",
      "3  23  40  42  40\n",
      "4  49  20  16  33\n",
      "5  15   8   6   5\n",
      "DataFrame with NaN values: \n",
      "     A     B     C     D\n",
      "0  47  39.0  13.0  41.0\n",
      "1  12  22.0   NaN  41.0\n",
      "2  35  27.0  34.0   NaN\n",
      "3  23   NaN  42.0  40.0\n",
      "4  49  20.0  16.0  33.0\n",
      "5  15   8.0   6.0   5.0\n",
      "DataFrame with NaN values dropped:\n",
      "     A     B     C     D\n",
      "0  47  39.0  13.0  41.0\n",
      "4  49  20.0  16.0  33.0\n",
      "5  15   8.0   6.0   5.0\n"
     ]
    }
   ],
   "source": [
    "#Create a Pandas DataFrame with 4 columns and 6 rows\n",
    "df = pd.DataFrame(np.random.randint(1,50, size= (6,4)), columns=['A','B','C','D'])\n",
    "print(f\"Original DataFrame:\\n {df}\")\n",
    "\n",
    "#introduce some NaN values\n",
    "df.iloc[1,2]= np.nan\n",
    "df.iloc[2,3]= np.nan\n",
    "df.iloc[3,1]= np.nan\n",
    "print(f\"DataFrame with NaN values: \\n {df}\")\n",
    "\n",
    "#drop the rows with any NaN values\n",
    "df.dropna(inplace=True)\n",
    "print(f\"DataFrame with NaN values dropped:\\n {df}\")"
   ]
  },
  {
   "cell_type": "markdown",
   "id": "d18bacdf",
   "metadata": {},
   "source": [
    "### Assignment 4: Data Aggregation\n",
    "\n",
    "1. Create a Pandas DataFrame with 2 columns: 'Category' and 'Value'. Fill the 'Category' column with random categories ('A', 'B', 'C') and the 'Value' column with random integers. Group the DataFrame by 'Category' and compute the sum and mean of 'Value' for each category."
   ]
  },
  {
   "cell_type": "code",
   "execution_count": 47,
   "id": "f49df5d9",
   "metadata": {},
   "outputs": [
    {
     "name": "stdout",
     "output_type": "stream",
     "text": [
      "Original DataFrame:\n",
      "   Category  Values\n",
      "0        A       2\n",
      "1        C       4\n",
      "2        C       3\n",
      "3        B       8\n",
      "4        C       5\n",
      "5        B       7\n",
      "6        B       2\n",
      "7        B       4\n",
      "8        B       6\n",
      "9        C       6\n",
      "Groupped DataFrame: \n",
      "           sum  mean\n",
      "Category           \n",
      "A           2   2.0\n",
      "B          27   5.4\n",
      "C          18   4.5\n"
     ]
    }
   ],
   "source": [
    "#Create a Pandas DataFrame with 2 columns: 'Category' and 'Value'\n",
    "df = pd.DataFrame({'Category': np.random.choice(['A','B','C'], size =10), 'Values': np.random.randint(1,10, size = 10)})\n",
    "print(f\"Original DataFrame:\\n {df}\")\n",
    "\n",
    "#group the dataframe by 'Category' and compute the sum and mean of 'Value' for each category\n",
    "group = df.groupby('Category')['Values'].agg(['sum', 'mean'])\n",
    "print(f\"Groupped DataFrame: \\n {group}\")\n"
   ]
  },
  {
   "cell_type": "markdown",
   "id": "c6e5474c",
   "metadata": {},
   "source": [
    "2. Create a Pandas DataFrame with 3 columns: 'Product', 'Category', and 'Sales'. Fill the DataFrame with random data. Group the DataFrame by 'Category' and compute the total sales for each category."
   ]
  },
  {
   "cell_type": "code",
   "execution_count": 48,
   "id": "1b2fa59d",
   "metadata": {},
   "outputs": [
    {
     "name": "stdout",
     "output_type": "stream",
     "text": [
      "Original DataFrame: \n",
      "   Product Category  Sales\n",
      "0   Prod3        A      2\n",
      "1   Prod2        B     10\n",
      "2   Prod3        B     29\n",
      "3   Prod3        A     39\n",
      "4   Prod3        C     24\n",
      "5   Prod1        C      7\n",
      "6   Prod1        A     10\n",
      "7   Prod2        B      7\n",
      "8   Prod3        C     26\n",
      "9   Prod1        A     19\n",
      "Gropped DataFrame:\n",
      " Category\n",
      "A    70\n",
      "B    46\n",
      "C    57\n",
      "Name: Sales, dtype: int64\n"
     ]
    }
   ],
   "source": [
    "# Create a Pandas DataFrame with 3 columns: 'Product', 'Category', and 'Sales'\n",
    "df = pd.DataFrame({'Product': np.random.choice(['Prod1', 'Prod2', 'Prod3'], size =10), 'Category': np.random.choice(['A', 'B', 'C'],size = 10), 'Sales': np.random.randint(1,50, size =10)})\n",
    "print(f\"Original DataFrame: \\n {df}\")\n",
    "\n",
    "#group the DataFrame by 'Category' and compute the total sales for each category\n",
    "group1 = df.groupby('Category')['Sales'].sum()\n",
    "print(f\"Gropped DataFrame:\\n {group1}\")"
   ]
  }
 ],
 "metadata": {
  "kernelspec": {
   "display_name": "Python 3",
   "language": "python",
   "name": "python3"
  },
  "language_info": {
   "codemirror_mode": {
    "name": "ipython",
    "version": 3
   },
   "file_extension": ".py",
   "mimetype": "text/x-python",
   "name": "python",
   "nbconvert_exporter": "python",
   "pygments_lexer": "ipython3",
   "version": "3.12.0"
  }
 },
 "nbformat": 4,
 "nbformat_minor": 5
}
