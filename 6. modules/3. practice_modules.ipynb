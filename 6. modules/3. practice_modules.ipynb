{
 "cells": [
  {
   "cell_type": "markdown",
   "id": "8d681fb9",
   "metadata": {},
   "source": [
    "# Module 6: Modules and Packages Assignments\n",
    "## Lesson 1: Importing Modules\n",
    "### Assignment 1: Importing and Using Modules\n",
    "\n",
    "Import the `math` module and use it to calculate the square root of 25 and the sine of 90 degrees."
   ]
  },
  {
   "cell_type": "code",
   "execution_count": 1,
   "id": "82144e64",
   "metadata": {},
   "outputs": [
    {
     "name": "stdout",
     "output_type": "stream",
     "text": [
      "5.0\n",
      "1.0\n"
     ]
    }
   ],
   "source": [
    "import math\n",
    "print(math.sqrt(25))\n",
    "print(math.sin(math.radians(90)))"
   ]
  },
  {
   "cell_type": "markdown",
   "id": "c4be3930",
   "metadata": {},
   "source": [
    "### Assignment 2: Aliasing Modules\n",
    "\n",
    "Import the `datetime` module with an alias and use it to print the current date and time."
   ]
  },
  {
   "cell_type": "code",
   "execution_count": 2,
   "id": "f2c3f105",
   "metadata": {},
   "outputs": [
    {
     "name": "stdout",
     "output_type": "stream",
     "text": [
      "2025-08-11 14:23:59.858577\n"
     ]
    }
   ],
   "source": [
    "import datetime as dt\n",
    "current_time = dt.datetime.now()\n",
    "print(current_time)"
   ]
  },
  {
   "cell_type": "markdown",
   "id": "2f44784d",
   "metadata": {},
   "source": [
    "### Assignment 3: Importing Specific Functions\n",
    "\n",
    "Import the `randint` function from the `random` module and use it to generate a random integer between 1 and 100."
   ]
  },
  {
   "cell_type": "code",
   "execution_count": 3,
   "id": "39a0b031",
   "metadata": {},
   "outputs": [
    {
     "name": "stdout",
     "output_type": "stream",
     "text": [
      "40\n"
     ]
    }
   ],
   "source": [
    "from random import randint\n",
    "print(randint(1,100))\n"
   ]
  },
  {
   "cell_type": "markdown",
   "id": "03133d6b",
   "metadata": {},
   "source": [
    "### Assignment 4: Importing Multiple Functions\n",
    "\n",
    "Import the `sqrt` and `pow` functions from the `math` module and use them to calculate the square root of 16 and 2 raised to the power of 3."
   ]
  },
  {
   "cell_type": "code",
   "execution_count": 5,
   "id": "b1bcb37d",
   "metadata": {},
   "outputs": [
    {
     "name": "stdout",
     "output_type": "stream",
     "text": [
      "4.0\n",
      "8.0\n"
     ]
    }
   ],
   "source": [
    "from math import sqrt,pow\n",
    "sr = sqrt(16)\n",
    "power = pow(2,3)\n",
    "print(sr)\n",
    "print(power)"
   ]
  },
  {
   "cell_type": "markdown",
   "id": "afc0fd80",
   "metadata": {},
   "source": [
    "### Assignment 5: Handling Import Errors\n",
    "\n",
    "Write code that attempts to import a non-existent module and gracefully handles the import error by printing an error message."
   ]
  },
  {
   "cell_type": "code",
   "execution_count": 6,
   "id": "ce723633",
   "metadata": {},
   "outputs": [
    {
     "name": "stdout",
     "output_type": "stream",
     "text": [
      "Error importing modules: No module named 'non_existance_module'\n"
     ]
    }
   ],
   "source": [
    "try:\n",
    "    import non_existance_module\n",
    "except Exception as e:\n",
    "    print(f\"Error importing modules: {e}\")"
   ]
  },
  {
   "cell_type": "markdown",
   "id": "8d0fe598",
   "metadata": {},
   "source": [
    "## Lesson 6.2: Standard Library Overview\n",
    "### Assignment 6: Working with the `os` Module\n",
    "\n",
    "Use the `os` module to create a new directory, list the contents of the current directory, and remove the newly created directory."
   ]
  },
  {
   "cell_type": "code",
   "execution_count": 14,
   "id": "064ec9c5",
   "metadata": {},
   "outputs": [
    {
     "name": "stdout",
     "output_type": "stream",
     "text": [
      "['destination.txt', '.DS_Store', 'example.csv', 'rhs2', '3. practice_modules.ipynb', '4. test.py', '1. import.ipynb', '2. standard_library.ipynb', 'source.txt', 'test_dir', 'package']\n",
      "['destination.txt', '.DS_Store', 'example.csv', '3. practice_modules.ipynb', '4. test.py', '1. import.ipynb', '2. standard_library.ipynb', 'source.txt', 'test_dir', 'package']\n"
     ]
    }
   ],
   "source": [
    "import os \n",
    "#create a new dir\n",
    "os.mkdir('rhs2')\n",
    "\n",
    "#list contents of the current directory\n",
    "print(os.listdir('.'))\n",
    "\n",
    "#remove the newly created directory\n",
    "os.rmdir('rhs2')\n",
    "print(os.listdir('.'))"
   ]
  },
  {
   "cell_type": "markdown",
   "id": "d0123471",
   "metadata": {},
   "source": [
    "### Assignment 7: Working with the `sys` Module\n",
    "\n",
    "Use the `sys` module to print the Python version currently in use and the command-line arguments passed to the script."
   ]
  },
  {
   "cell_type": "code",
   "execution_count": 16,
   "id": "669b01ce",
   "metadata": {},
   "outputs": [
    {
     "name": "stdout",
     "output_type": "stream",
     "text": [
      "Python Version: 3.12.0 | packaged by conda-forge | (main, Oct  3 2023, 08:36:57) [Clang 15.0.7 ]\n",
      "Command-Line argument: ['/Users/sium/Desktop/github/mlbootcamp/venv/lib/python3.12/site-packages/ipykernel_launcher.py', '--f=/Users/sium/Library/Jupyter/runtime/kernel-v332e1115a14cdfeaf1b1d8576f99240b7a20b8701.json']\n",
      "3.12.0 | packaged by conda-forge | (main, Oct  3 2023, 08:36:57) [Clang 15.0.7 ]\n"
     ]
    }
   ],
   "source": [
    "import sys\n",
    "print(f\"Python Version: {sys.version}\")\n",
    "print(f\"Command-Line argument: {sys.argv}\")"
   ]
  },
  {
   "cell_type": "markdown",
   "id": "7c408d52",
   "metadata": {},
   "source": [
    "### Assignment 8: Working with the `math` Module\n",
    "\n",
    "Use the `math` module to calculate the greatest common divisor (GCD) of two numbers and the factorial of a number."
   ]
  },
  {
   "cell_type": "code",
   "execution_count": 17,
   "id": "5eed766c",
   "metadata": {},
   "outputs": [
    {
     "name": "stdout",
     "output_type": "stream",
     "text": [
      "6\n",
      "120\n"
     ]
    }
   ],
   "source": [
    "import math\n",
    "print(math.gcd(48,18))\n",
    "print(math.factorial(5))"
   ]
  },
  {
   "cell_type": "markdown",
   "id": "030b45fd",
   "metadata": {},
   "source": [
    "### Assignment 9: Working with the `datetime` Module\n",
    "\n",
    "Use the `datetime` module to print the current date, calculate the date 100 days from today, and determine the day of the week for a given date."
   ]
  },
  {
   "cell_type": "code",
   "execution_count": 22,
   "id": "fe66659c",
   "metadata": {},
   "outputs": [
    {
     "name": "stdout",
     "output_type": "stream",
     "text": [
      "todays date: 2025-08-11 14:41:32.668571\n",
      "date of 100 days from today: 2025-11-19 14:41:32.668571\n",
      "days of the week for 2025,1,1 is: Wednesday\n"
     ]
    }
   ],
   "source": [
    "from datetime import datetime, timedelta,date\n",
    "today = datetime.now()\n",
    "f_days= today + timedelta(days=100)\n",
    "print(f\"todays date: {today}\")\n",
    "print(f\"date of 100 days from today: {f_days}\")\n",
    "\n",
    "given_date = date(2025,1,1)\n",
    "print(f\"days of the week for 2025,1,1 is: {given_date.strftime(\"%A\")}\")\n"
   ]
  },
  {
   "cell_type": "markdown",
   "id": "2765fad2",
   "metadata": {},
   "source": [
    "### Assignment 10: Working with the `random` Module\n",
    "\n",
    "Use the `random` module to generate a list of 5 random numbers between 1 and 50 and shuffle the elements of a list."
   ]
  },
  {
   "cell_type": "code",
   "execution_count": 26,
   "id": "d179b59c",
   "metadata": {},
   "outputs": [
    {
     "name": "stdout",
     "output_type": "stream",
     "text": [
      "[1, 20, 17, 8, 43]\n",
      "[5, 2, 1, 3, 4]\n"
     ]
    }
   ],
   "source": [
    "import random\n",
    "#list of 5 random numbers between 1 and 50\n",
    "random_numbers = [random.randint(1,50) for _ in range(5)]\n",
    "print(random_numbers) \n",
    "#shuffle a list\n",
    "list1 = [1,2,3,4,5]\n",
    "random.shuffle(list1)\n",
    "print(list1)"
   ]
  },
  {
   "cell_type": "markdown",
   "id": "14babf2c",
   "metadata": {},
   "source": [
    "## Lesson 6: Creating and Using Packages\n",
    "### Assignment 11: Creating a Simple Package\n",
    "\n",
    "Create a package named `mypackage` with two modules: `module1` and `module2`. `module1` should contain a function that adds two numbers, and `module2` should contain a function that multiplies two numbers. Write code to use these functions."
   ]
  },
  {
   "cell_type": "code",
   "execution_count": 41,
   "id": "26403def",
   "metadata": {},
   "outputs": [
    {
     "name": "stdout",
     "output_type": "stream",
     "text": [
      "105\n",
      "15\n"
     ]
    }
   ],
   "source": [
    "# file structure\n",
    "# mypackage/\n",
    "#  __init__.py\n",
    "#  module1.py\n",
    "#  module2.py\n",
    "# content of module1.py\n",
    "# def add(a,b):\n",
    "#     return a+b\n",
    "# content of module2.py\n",
    "# def mult(a,b):\n",
    "#     return a*b\n",
    "\n",
    "#using the package\n",
    "from mypackage import module1, module2\n",
    "print(module1.add(5,100))\n",
    "print(module2.mult(5,3))\n",
    "\n",
    "\n"
   ]
  },
  {
   "cell_type": "markdown",
   "id": "ce50ffda",
   "metadata": {},
   "source": [
    "### Assignment 12: Using `__init__.py`\n",
    "\n",
    "Modify the `mypackage` package to include an `__init__.py` file that imports the functions from `module1` and `module2`. Write code to use these functions."
   ]
  },
  {
   "cell_type": "code",
   "execution_count": null,
   "id": "caa11866",
   "metadata": {},
   "outputs": [
    {
     "name": "stdout",
     "output_type": "stream",
     "text": [
      "70\n",
      "600\n"
     ]
    }
   ],
   "source": [
    "# Content of __init__.py\n",
    "# from .module1 import add\n",
    "# from .module2 import mult\n",
    "#using the package\n",
    "from mypackage import add\n",
    "from mypackage import mult\n",
    "print(add(50,20))\n",
    "print(mult(20,30))\n"
   ]
  },
  {
   "cell_type": "markdown",
   "id": "a8f5cb67",
   "metadata": {},
   "source": [
    "### Assignment 13: Importing from a Package\n",
    "\n",
    "Write code to import and use the functions from `mypackage` without explicitly importing `module1` and `module2`."
   ]
  },
  {
   "cell_type": "code",
   "execution_count": 46,
   "id": "c3a0e65c",
   "metadata": {},
   "outputs": [
    {
     "name": "stdout",
     "output_type": "stream",
     "text": [
      "11\n",
      "30\n"
     ]
    }
   ],
   "source": [
    "from mypackage import add, mult\n",
    "print(add(5,6))\n",
    "print(mult(10,3))"
   ]
  },
  {
   "cell_type": "markdown",
   "id": "9dca0f21",
   "metadata": {},
   "source": [
    "### Assignment 14: Relative Imports\n",
    "\n",
    "Create a subpackage named `subpackage` within `mypackage` and move `module2` into `subpackage`. Modify the import statements in `__init__.py` to use relative imports. Write code to use the functions from both modules."
   ]
  },
  {
   "cell_type": "code",
   "execution_count": 1,
   "id": "f2f35f86",
   "metadata": {},
   "outputs": [
    {
     "name": "stdout",
     "output_type": "stream",
     "text": [
      "7\n",
      "3\n"
     ]
    }
   ],
   "source": [
    "from mypackage import add, sub\n",
    "print(add(2,5))\n",
    "print(sub(5,2))"
   ]
  },
  {
   "cell_type": "markdown",
   "id": "b29f769e",
   "metadata": {},
   "source": [
    "### Assignment 15: Handling Package Import Errors\n",
    "\n",
    "Write code that attempts to import a non-existent function from `mypackage` and gracefully handles the import error by printing an error message."
   ]
  },
  {
   "cell_type": "code",
   "execution_count": 3,
   "id": "001ee02b",
   "metadata": {},
   "outputs": [
    {
     "name": "stdout",
     "output_type": "stream",
     "text": [
      "Error finding module: cannot import name 'non_existance_functions' from 'mypackage' (/Users/sium/Desktop/github/mlbootcamp/6. modules/mypackage/__init__.py) \n"
     ]
    }
   ],
   "source": [
    "try:\n",
    "    from mypackage import non_existance_functions\n",
    "except Exception as e:\n",
    "    print(f\"Error finding module: {e} \")"
   ]
  }
 ],
 "metadata": {
  "kernelspec": {
   "display_name": "Python 3",
   "language": "python",
   "name": "python3"
  },
  "language_info": {
   "codemirror_mode": {
    "name": "ipython",
    "version": 3
   },
   "file_extension": ".py",
   "mimetype": "text/x-python",
   "name": "python",
   "nbconvert_exporter": "python",
   "pygments_lexer": "ipython3",
   "version": "3.12.0"
  }
 },
 "nbformat": 4,
 "nbformat_minor": 5
}
